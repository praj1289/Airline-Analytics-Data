{
 "cells": [
  {
   "cell_type": "markdown",
   "metadata": {
    "editable": true,
    "id": "l_PeQuMI0c-s",
    "slideshow": {
     "slide_type": ""
    },
    "tags": []
   },
   "source": [
    "**Capital One Data Challenge**\n",
    "\n",
    "**Prince Rajvanshi**"
   ]
  },
  {
   "cell_type": "markdown",
   "metadata": {
    "id": "eXyIK-ugQkwR"
   },
   "source": [
    "*Import libraries*"
   ]
  },
  {
   "cell_type": "code",
   "execution_count": 1509,
   "metadata": {
    "id": "QuLG4nlz0aZq"
   },
   "outputs": [],
   "source": [
    "#import libraries\n",
    "import pandas as pd\n",
    "import numpy as np\n",
    "import os\n",
    "import statistics\n",
    "from scipy import stats"
   ]
  },
  {
   "cell_type": "code",
   "execution_count": 1510,
   "metadata": {
    "id": "yRS3QQvPp73s"
   },
   "outputs": [],
   "source": [
    "import pandas as pd\n",
    "import seaborn as sns\n",
    "import matplotlib.pyplot as plt"
   ]
  },
  {
   "cell_type": "markdown",
   "metadata": {
    "id": "AMHz3ylLRCCu"
   },
   "source": [
    "*Reusable user-defined functions*"
   ]
  },
  {
   "cell_type": "code",
   "execution_count": 1512,
   "metadata": {
    "id": "Hr9l0MLR5Z23"
   },
   "outputs": [],
   "source": [
    "#Function to read csv files\n",
    "def read_file(file_name):\n",
    "  file_path = \"C:\\\\Users\\\\princ\\\\OneDrive\\\\Desktop\\\\CapitalOneDataChallenge\\\\data\\\\\" +  file_name\n",
    "  return pd.read_csv(file_name, low_memory = False)"
   ]
  },
  {
   "cell_type": "code",
   "execution_count": 1513,
   "metadata": {
    "id": "ytiku_Isywp0"
   },
   "outputs": [],
   "source": [
    "#Function to replace NaN values with null - used for data cleaning\n",
    "def replace_nan(df):\n",
    "  for col in df.columns:\n",
    "    if df[col].dtype == 'object':\n",
    "      df[col] = df[col].fillna(\"null\")\n",
    "  return df"
   ]
  },
  {
   "cell_type": "code",
   "execution_count": 1514,
   "metadata": {
    "id": "wwDDjHcwyyXd"
   },
   "outputs": [],
   "source": [
    "#Function to downgrade datatypes from float64 to float32 and int64 to int32\n",
    "#Precision beyond 7 decimal digits is not needed for this use case -  downgrading saves memory (8 bytes -> 4 bytes)\n",
    "def downgrade_datatypes(df):\n",
    "  for col in df.select_dtypes(include=['number']).columns:\n",
    "    if df[col].dtype == np.float64:\n",
    "      df[col] = df[col].astype(np.float32)\n",
    "    elif df[col].dtype == np.int64:\n",
    "      df[col] = df[col].astype(np.int32)\n",
    "  return df"
   ]
  },
  {
   "cell_type": "code",
   "execution_count": 1515,
   "metadata": {
    "id": "ciHC_Q6rjU1F"
   },
   "outputs": [],
   "source": [
    "#Function to impute null values with mean\n",
    "#Used in data cleaning to remove null values\n",
    "def impute_with_mean(df, columns_to_impute):\n",
    "    for col in columns_to_impute:\n",
    "        if col in df.columns:\n",
    "          mean_value = df[col].mean()\n",
    "          df[col] = df[col].fillna(mean_value)"
   ]
  },
  {
   "cell_type": "code",
   "execution_count": 1516,
   "metadata": {
    "id": "T2Op6Jv-o1QS"
   },
   "outputs": [],
   "source": [
    "#Function to create a boxplot\n",
    "#Used to show distribution and find outliers in input data\n",
    "def build_boxplot(df, column):\n",
    "    plt.figure(figsize=(4, 4))\n",
    "    sns.boxplot(data=df, x=column)\n",
    "    plt.title(f'Boxplots of Column: {column}')\n",
    "    plt.tight_layout()\n",
    "    plt.show()"
   ]
  },
  {
   "cell_type": "code",
   "execution_count": 1517,
   "metadata": {},
   "outputs": [],
   "source": [
    "#Function to join two dataframes\n",
    "def join_data(df1, df2, left_column, right_column):\n",
    "\n",
    "    merged_result = df1\n",
    "    merged_result = pd.merge(merged_result, df2, left_on=left_column, right_on=right_column)\n",
    "    \n",
    "    return merged_result"
   ]
  },
  {
   "cell_type": "markdown",
   "metadata": {
    "id": "2MszIM2ePuvx"
   },
   "source": [
    "*Importing input data for all 3 files*"
   ]
  },
  {
   "cell_type": "code",
   "execution_count": 1519,
   "metadata": {
    "id": "kLu8S7-Q56bC"
   },
   "outputs": [],
   "source": [
    "#Read each of the 3 input files into a dataframe variable\n",
    "airport_codes = read_file('Airport_Codes.csv')\n",
    "\n",
    "flights = read_file('Flights.csv')\n",
    "\n",
    "tickets = read_file('Tickets.csv')"
   ]
  },
  {
   "cell_type": "markdown",
   "metadata": {
    "id": "vVfqwEqJzOID"
   },
   "source": [
    "*Data Cleaning/Transformation of Airport_codes data*"
   ]
  },
  {
   "cell_type": "code",
   "execution_count": 1521,
   "metadata": {
    "colab": {
     "base_uri": "https://localhost:8080/"
    },
    "id": "ZPVknd95J8gN",
    "outputId": "753eddec-5021-47d9-ea6e-189eb59403e0"
   },
   "outputs": [
    {
     "name": "stdout",
     "output_type": "stream",
     "text": [
      "<class 'pandas.core.frame.DataFrame'>\n",
      "RangeIndex: 55369 entries, 0 to 55368\n",
      "Data columns (total 8 columns):\n",
      " #   Column        Non-Null Count  Dtype  \n",
      "---  ------        --------------  -----  \n",
      " 0   TYPE          55369 non-null  object \n",
      " 1   NAME          55369 non-null  object \n",
      " 2   ELEVATION_FT  48354 non-null  float64\n",
      " 3   CONTINENT     27526 non-null  object \n",
      " 4   ISO_COUNTRY   55122 non-null  object \n",
      " 5   MUNICIPALITY  49663 non-null  object \n",
      " 6   IATA_CODE     9182 non-null   object \n",
      " 7   COORDINATES   55369 non-null  object \n",
      "dtypes: float64(1), object(7)\n",
      "memory usage: 3.4+ MB\n"
     ]
    }
   ],
   "source": [
    "#check columns in the airport dataset\n",
    "airport_codes.info()"
   ]
  },
  {
   "cell_type": "code",
   "execution_count": 1522,
   "metadata": {
    "colab": {
     "base_uri": "https://localhost:8080/",
     "height": 335
    },
    "id": "zhpFTut-0Ab6",
    "outputId": "e96bc30e-a28a-4a5f-cc92-a917b99a8fb4"
   },
   "outputs": [
    {
     "data": {
      "text/plain": [
       "TYPE                0\n",
       "NAME                0\n",
       "ELEVATION_FT     7015\n",
       "CONTINENT       27843\n",
       "ISO_COUNTRY       247\n",
       "MUNICIPALITY     5706\n",
       "IATA_CODE       46187\n",
       "COORDINATES         0\n",
       "dtype: int64"
      ]
     },
     "execution_count": 1522,
     "metadata": {},
     "output_type": "execute_result"
    }
   ],
   "source": [
    "#Check for null values in the dataset\n",
    "airport_codes.isnull().sum()"
   ]
  },
  {
   "cell_type": "code",
   "execution_count": 1523,
   "metadata": {
    "id": "yJ3b4-xONSza"
   },
   "outputs": [],
   "source": [
    "#Filter airport codes dataset by Type to keep only the 'medium_airport' and 'large_airport' data\n",
    "airport_codes = airport_codes[airport_codes['TYPE'].isin(['medium_airport', 'large_airport'])]"
   ]
  },
  {
   "cell_type": "code",
   "execution_count": 1524,
   "metadata": {
    "id": "lBVKSmjKNwBs"
   },
   "outputs": [],
   "source": [
    "#Filter airport dataset further to keep only the airports with ISO_Country = 'US'\n",
    "airport_codes = airport_codes[airport_codes['ISO_COUNTRY'].isin(['US'])]"
   ]
  },
  {
   "cell_type": "code",
   "execution_count": 1525,
   "metadata": {
    "colab": {
     "base_uri": "https://localhost:8080/",
     "height": 335
    },
    "id": "OUzigJSy5OrQ",
    "outputId": "d55041fe-d35f-4cba-e720-bab2e866dae8"
   },
   "outputs": [
    {
     "data": {
      "text/plain": [
       "TYPE              0\n",
       "NAME              0\n",
       "ELEVATION_FT      3\n",
       "CONTINENT       858\n",
       "ISO_COUNTRY       0\n",
       "MUNICIPALITY      3\n",
       "IATA_CODE        37\n",
       "COORDINATES       0\n",
       "dtype: int64"
      ]
     },
     "execution_count": 1525,
     "metadata": {},
     "output_type": "execute_result"
    }
   ],
   "source": [
    "#Check for null values in the dataset after filtering\n",
    "airport_codes.isnull().sum()"
   ]
  },
  {
   "cell_type": "code",
   "execution_count": 1526,
   "metadata": {
    "id": "8UYLqE6_9TbH"
   },
   "outputs": [],
   "source": [
    "#Remove columns not needed for our analysis\n",
    "airport_codes = airport_codes.drop(['ELEVATION_FT','CONTINENT','ISO_COUNTRY','MUNICIPALITY','COORDINATES'], axis = 1)"
   ]
  },
  {
   "cell_type": "code",
   "execution_count": 1527,
   "metadata": {
    "colab": {
     "base_uri": "https://localhost:8080/"
    },
    "id": "rWFvnxwE931O",
    "outputId": "dfb81ce6-feac-4950-efa9-c309bdd15cbd"
   },
   "outputs": [
    {
     "data": {
      "text/plain": [
       "array(['WKK', nan, 'ABE', 'ABI', 'ABQ', 'ABR', 'ABY', 'ACK', 'ACT', 'ACV',\n",
       "       'ACY', 'ADW', 'AEX', 'AFW', 'AGC', 'AGS', 'AHN', 'AKC', 'ALB',\n",
       "       'ALI', 'ALM', 'ALN', 'ALO', 'ALS', 'ALW', 'AMA', 'ANB', 'AND',\n",
       "       'AOO', 'APA', 'APF', 'APG', 'APN', 'ARA', 'ART', 'ASE', 'AST',\n",
       "       'ATL', 'ATY', 'AUG', 'AUS', 'AUW', 'AVL', 'AVP', 'AXN', 'AZO',\n",
       "       'BAB', 'BAD', 'BAF', 'CLU', 'BBD', 'BCE', 'BDE', 'BDL', 'BDR',\n",
       "       'BED', 'BFD', 'BFF', 'BFI', 'BFL', 'BFM', 'BGM', 'BGR', 'BHB',\n",
       "       'BHM', 'BIF', 'BIH', 'BIL', 'BIS', 'BIX', 'BJC', 'BJI', 'BKE',\n",
       "       'BFK', 'BKL', 'BKW', 'BLF', 'BLH', 'BLI', 'BLV', 'BMG', 'BMI',\n",
       "       'BNA', 'BNO', 'BOI', 'BOS', 'BPI', 'WMH', 'BPT', 'BQK', 'BRD',\n",
       "       'BRL', 'BRO', 'BTL', 'BTM', 'BTR', 'BTV', 'BUF', 'BUR', 'BFP',\n",
       "       'BVY', 'BWG', 'BWI', 'BYH', 'BYI', 'BYS', 'BZN', 'CAE', 'CAK',\n",
       "       'CAR', 'CBM', 'CCY', 'CDC', 'CDR', 'CDS', 'CEC', 'CEF', 'CEW',\n",
       "       'CGF', 'CGI', 'CHA', 'CHO', 'CHS', 'CID', 'CIU', 'CKB', 'CLE',\n",
       "       'CLL', 'CLM', 'CLT', 'CMH', 'CMI', 'CMX', 'CNM', 'CNU', 'COD',\n",
       "       'COE', 'COF', 'CON', 'COS', 'COU', 'CPR', 'CRE', 'CRG', 'CRP',\n",
       "       'CLD', 'CRW', 'CSG', 'CSV', 'CTB', 'CUB', 'CVG', 'CVO', 'CVS',\n",
       "       'CWA', 'CXO', 'CYS', 'DAA', 'DAB', 'DAG', 'DAL', 'DAN', 'DAY',\n",
       "       'DBQ', 'DCA', 'DDC', 'DEC', 'DEN', 'DET', 'DFW', 'DHN', 'DHT',\n",
       "       'DIK', 'DLF', 'DLH', 'DLS', 'DMA', 'DMN', 'DNL', 'DOV', 'DPA',\n",
       "       'DRA', 'DRI', 'DRT', 'DSM', 'DTW', 'DUG', 'DUJ', 'DYS', 'EAT',\n",
       "       'EAU', 'ECG', 'ECP', 'EDW', 'EED', 'EEN', 'EFD', 'EGE', 'EGI',\n",
       "       'EKA', 'EKN', 'EKO', 'ELD', 'ELM', 'LYU', 'ELP', 'ELY', 'END',\n",
       "       'ENV', 'ENW', 'ERI', 'ESF', 'EUG', 'EVV', 'EVW', 'EWB', 'EWN',\n",
       "       'EWR', 'EYW', 'FAF', 'FAR', 'FAT', 'FAY', 'FBG', 'FCS', 'FDY',\n",
       "       'FFO', 'FHU', 'FKL', 'FLG', 'FLL', 'FLO', 'FME', 'FMN', 'FMY',\n",
       "       'FNT', 'FOD', 'FOE', 'FPR', 'FRG', 'FRI', 'FSD', 'FSI', 'FSM',\n",
       "       'FST', 'FTK', 'FTW', 'FTY', 'FWA', 'FXE', 'FYV', 'GCC', 'GCK',\n",
       "       'GCN', 'GDV', 'GEG', 'GFK', 'GFL', 'GGG', 'GGW', 'GJT', 'GLD',\n",
       "       'GLH', 'GLS', 'GMU', 'GNV', 'GON', 'FCA', 'GPT', 'GRB', 'GRF',\n",
       "       'GRI', 'GRK', 'GRR', 'GSB', 'GSO', 'GSP', 'GTF', 'GTR', 'GUP',\n",
       "       'GUS', 'GUY', 'GWO', 'GYY', 'HBG', 'HBR', 'HFD', 'HGR', 'HHR',\n",
       "       'HIB', 'HIF', 'HIO', 'HKY', 'HLG', 'HLN', 'HLR', 'HMN', 'HOB',\n",
       "       'HON', 'HOP', 'HOT', 'HOU', 'HPN', 'HQM', 'HRL', 'HRO', 'HST',\n",
       "       'HSV', 'HTS', 'HUA', 'HUF', 'HUL', 'HUT', 'HVN', 'HVR', 'HYA',\n",
       "       'HYR', 'HYS', 'IAB', 'IAD', 'IAG', 'IAH', 'ICT', 'IDA', 'IKK',\n",
       "       'ILG', 'ILM', 'ILN', 'IND', 'INK', 'INL', 'INT', 'INW', 'IPL',\n",
       "       'IPT', 'IRK', 'ISM', 'ISN', 'ISO', 'ISP', 'ITH', 'AZA', 'JAC',\n",
       "       'JAN', 'JAX', 'JBR', 'JCT', 'JFK', 'JHW', 'JLN', 'JMS', 'JST',\n",
       "       'JXN', 'KLS', 'LAF', 'LAL', 'LAN', 'LAR', 'LAS', 'LAW', 'LAX',\n",
       "       'LBB', 'LBE', 'LBF', 'LBL', 'LBT', 'LJN', 'LCH', 'LCK', 'LEB',\n",
       "       'LEE', 'LEX', 'LFI', 'LFK', 'LFT', 'LGA', 'LGB', 'LGU', 'LIT',\n",
       "       'LMT', 'LND', 'LNK', 'LNS', 'LOL', 'LOU', 'LOZ', 'LRD', 'LRF',\n",
       "       'LRU', 'LSE', 'LSF', 'LSV', 'LTS', 'LUF', 'LUK', 'LVM', 'LVS',\n",
       "       'LWB', 'LWM', 'LWS', 'LWT', 'LYH', 'MAF', 'MBG', 'MBS', 'MCB',\n",
       "       'MCC', 'MCE', 'MCF', 'MCI', 'MCK', 'MCN', 'MCO', 'MCW', 'MDH',\n",
       "       'MDT', 'MDW', 'MEI', 'MEM', 'MER', 'MFD', 'MFE', 'MFR', 'MGE',\n",
       "       'MGM', 'MGW', 'MHK', 'MHR', 'MHT', 'MIA', 'MIB', 'MIE', 'MIV',\n",
       "       'MKC', 'MKE', 'MKL', 'MLB', 'MLC', 'MLI', 'MLS', 'MLU', 'MMT',\n",
       "       'MMU', 'MOB', 'MOD', 'MOT', 'MPV', 'MQY', 'MRB', 'MRY', 'MSL',\n",
       "       'MSN', 'MSO', 'MSP', 'MSS', 'MSY', 'MTC', 'MTH', 'MTJ', 'MTN',\n",
       "       'MUI', 'MUO', 'MWH', 'MXF', 'MYL', 'MYR', 'MYV', 'NBG', 'NEL',\n",
       "       'NEW', 'NFL', 'FWH', 'NGU', 'NHK', 'NHZ', 'NIP', 'NJK', 'NKX',\n",
       "       'NLC', 'NPA', 'NQA', 'NQI', 'NQX', 'NRB', 'NSE', 'NTD', 'NTU',\n",
       "       'NUQ', 'NUW', 'YUM', 'NZY', 'OAJ', 'OAK', 'OFF', 'OFK', 'OGB',\n",
       "       'OGD', 'OKC', 'OLF', 'OLM', 'OLS', 'OMA', 'ONP', 'ONT', 'OPF',\n",
       "       'NCO', 'ORD', 'ORF', 'ORH', 'OSH', 'OSU', 'OTH', 'OTM', 'OWB',\n",
       "       'OWD', 'OXR', 'OZR', 'PAE', 'PAH', 'PAM', 'PBF', 'PBG', 'PBI',\n",
       "       'PDK', 'PDT', 'PDX', 'PGA', 'PGV', 'PHF', 'PHL', 'PHX', 'PIA',\n",
       "       'PIB', 'PIE', 'PIH', 'PIR', 'PIT', 'PKB', 'PLN', 'PMD', 'PWY',\n",
       "       'PNC', 'PNE', 'PNS', 'POB', 'POE', 'POU', 'PQI', 'PRB', 'PRC',\n",
       "       'PRX', 'PSC', 'PSM', 'PSP', 'PTK', 'PUW', 'PVD', 'PVU', 'PWK',\n",
       "       'PWM', 'PWT', 'RAL', 'RAP', 'RBL', 'RCA', 'RDD', 'RDG', 'RDM',\n",
       "       'RDR', 'RDU', 'RFD', 'RHI', 'RIC', 'RIL', 'RIV', 'RIW', 'RKS',\n",
       "       'RME', 'RMG', 'RND', 'RNO', 'ROA', 'ROC', 'ROW', 'RSL', 'RST',\n",
       "       'RSW', 'RUT', 'RVS', 'RWF', 'RWI', 'RWL', 'SAC', 'SAF', 'SAN',\n",
       "       'SAT', 'SAV', 'MQT', 'SBA', 'SBD', 'SBN', 'SBP', 'SBY', 'SCH',\n",
       "       'SCK', 'SDF', 'SDM', 'SDY', 'SEA', 'SFB', 'SFF', 'SFO', 'SGF',\n",
       "       'SGH', 'UST', 'SGR', 'SGU', 'SHR', 'SHV', 'SJC', 'SJT', 'SKA',\n",
       "       'SKF', 'SLC', 'SLE', 'SLK', 'SLN', 'SME', 'SMF', 'SMN', 'SMX',\n",
       "       'SNA', 'SNS', 'SNY', 'SPI', 'SPS', 'SRQ', 'RUI', 'SSC', 'SSF',\n",
       "       'SSI', 'STC', 'STJ', 'STL', 'STP', 'STS', 'SUN', 'SUS', 'SUU',\n",
       "       'SUX', 'SVN', 'SWF', 'SWO', 'SYR', 'SZL', 'TBN', 'TCC', 'TCL',\n",
       "       'TCM', 'TCS', 'TEB', 'TIK', 'TIW', 'TIX', 'TLH', 'TMB', 'TOI',\n",
       "       'TOL', 'TOP', 'TPA', 'TPH', 'TPL', 'TRI', 'TKF', 'TRM', 'TTD',\n",
       "       'TTN', 'TUL', 'TUP', 'TUS', 'TVC', 'TVL', 'TWF', 'TXK', 'TYR',\n",
       "       'TYS', 'UIN', 'UKI', 'SCE', 'UOX', 'HTV', 'VAD', 'VBG', 'VCT',\n",
       "       'VEL', 'VGT', 'VLD', 'VNY', 'VOK', 'VPS', 'VPZ', 'VRB', 'VTN',\n",
       "       'WJF', 'WMC', 'WRB', 'WRI', 'WRL', 'WWD', 'WWR', 'WYS', 'XNA',\n",
       "       'YIP', 'YKM', 'YKN', 'YNG', 'ZZV', 'PAQ', 'BTI', 'BET', 'BIG',\n",
       "       'BKC', 'BRW', 'BTT', 'CDB', 'SCM', 'CDV', 'CZF', 'DRG', 'ADK',\n",
       "       'DLG', 'MLL', 'ADQ', 'DUT', 'EDF', 'EHM', 'EIL', 'EMK', 'ENA',\n",
       "       'FAI', 'FBK', 'ABL', 'GAL', 'GKN', 'GAM', 'GST', 'HCR', 'HSL',\n",
       "       'HNS', 'HOM', 'HPB', 'EGX', 'IAN', 'ILI', 'UTO', 'JNU', 'AKN',\n",
       "       'AKP', 'KTN', 'KLW', 'LUR', 'MCG', 'MRI', 'MYU', 'ANC', 'ANI',\n",
       "       'ENN', 'ANN', 'ANV', 'OME', 'ORT', 'OTZ', 'STG', 'KPC', 'PSG',\n",
       "       'PTH', 'PTU', 'NUI', 'ARC', 'RBY', 'SVA', 'SCC', 'SDP', 'SHH',\n",
       "       'SIT', 'WLK', 'KSM', 'SNP', 'SVW', 'SXQ', 'SYA', 'TOG', 'TKA',\n",
       "       'TLJ', 'ATK', 'VDZ', 'KVL', 'SWD', 'WRG', 'AIN', 'WTK', 'WWA',\n",
       "       'YAK', 'FYU', 'BKH', 'HDH', 'HHI', 'HNM', 'JHM', 'JRF', 'KOA',\n",
       "       'LIH', 'MKK', 'MUE', 'NGF', 'HNL', 'LNY', 'OGG', 'BSF', 'ITO',\n",
       "       'UPP', 'PIZ'], dtype=object)"
      ]
     },
     "execution_count": 1527,
     "metadata": {},
     "output_type": "execute_result"
    }
   ],
   "source": [
    "#show unique values in column IATA_CODE to check for any inconsistent data\n",
    "airport_codes['IATA_CODE'].unique()"
   ]
  },
  {
   "cell_type": "code",
   "execution_count": 1528,
   "metadata": {
    "colab": {
     "base_uri": "https://localhost:8080/"
    },
    "id": "UPcFIHyqKyft",
    "outputId": "1d770524-52b9-42f9-93d1-71d276e45a14"
   },
   "outputs": [
    {
     "name": "stdout",
     "output_type": "stream",
     "text": [
      "<class 'pandas.core.frame.DataFrame'>\n",
      "Index: 858 entries, 6194 to 50008\n",
      "Data columns (total 3 columns):\n",
      " #   Column     Non-Null Count  Dtype \n",
      "---  ------     --------------  ----- \n",
      " 0   TYPE       858 non-null    object\n",
      " 1   NAME       858 non-null    object\n",
      " 2   IATA_CODE  858 non-null    object\n",
      "dtypes: object(3)\n",
      "memory usage: 26.8+ KB\n"
     ]
    }
   ],
   "source": [
    "#Run the user defined functions created above to downgrade datatypes and replace NaN values\n",
    "airport_codes = downgrade_datatypes(airport_codes)\n",
    "airport_codes = replace_nan(airport_codes)\n",
    "airport_codes.info()"
   ]
  },
  {
   "cell_type": "code",
   "execution_count": 1529,
   "metadata": {},
   "outputs": [
    {
     "data": {
      "text/plain": [
       "0"
      ]
     },
     "execution_count": 1529,
     "metadata": {},
     "output_type": "execute_result"
    }
   ],
   "source": [
    "#check number of duplicate rows\n",
    "airport_codes.duplicated().sum()"
   ]
  },
  {
   "cell_type": "code",
   "execution_count": 1530,
   "metadata": {
    "colab": {
     "base_uri": "https://localhost:8080/"
    },
    "id": "70tUBD7JOGn_",
    "outputId": "d71127a7-cd80-4e72-bf58-0c129e8cece2"
   },
   "outputs": [
    {
     "data": {
      "text/plain": [
       "array([False])"
      ]
     },
     "execution_count": 1530,
     "metadata": {},
     "output_type": "execute_result"
    }
   ],
   "source": [
    "#check for duplicate rows in the airport codes dataset\n",
    "duplicate_airport_codes = airport_codes.duplicated()\n",
    "duplicate_airport_codes.unique()"
   ]
  },
  {
   "cell_type": "code",
   "execution_count": 1531,
   "metadata": {
    "id": "enn1hQktXjCf"
   },
   "outputs": [],
   "source": [
    "#Remove duplicates from the airport_codes dataset, if any\n",
    "airport_codes = airport_codes.drop_duplicates()"
   ]
  },
  {
   "cell_type": "code",
   "execution_count": 1532,
   "metadata": {
    "id": "bKowwxvouCwa"
   },
   "outputs": [],
   "source": [
    "#Reset index to account for the removal of filtered/duplicate data\n",
    "airport_codes = airport_codes.reset_index(drop=True)"
   ]
  },
  {
   "cell_type": "code",
   "execution_count": 1533,
   "metadata": {
    "colab": {
     "base_uri": "https://localhost:8080/",
     "height": 178
    },
    "id": "JDAAwhMjPHmz",
    "outputId": "0d06789a-21c1-4cdb-eadf-cd802944f6e8"
   },
   "outputs": [
    {
     "data": {
      "text/plain": [
       "TYPE         0\n",
       "NAME         0\n",
       "IATA_CODE    0\n",
       "dtype: int64"
      ]
     },
     "execution_count": 1533,
     "metadata": {},
     "output_type": "execute_result"
    }
   ],
   "source": [
    "#Check for any null values in the columns\n",
    "airport_codes.isnull().sum()"
   ]
  },
  {
   "cell_type": "markdown",
   "metadata": {
    "id": "FyZJtQQYSInx"
   },
   "source": [
    "*Data Cleaning/Transformation of Flights data*"
   ]
  },
  {
   "cell_type": "code",
   "execution_count": 1535,
   "metadata": {
    "colab": {
     "base_uri": "https://localhost:8080/"
    },
    "id": "s7_kXv5ufoYQ",
    "outputId": "770d2146-605a-4b4e-b9c0-a77f9f8ba601"
   },
   "outputs": [
    {
     "name": "stdout",
     "output_type": "stream",
     "text": [
      "<class 'pandas.core.frame.DataFrame'>\n",
      "RangeIndex: 1915886 entries, 0 to 1915885\n",
      "Data columns (total 16 columns):\n",
      " #   Column             Dtype  \n",
      "---  ------             -----  \n",
      " 0   FL_DATE            object \n",
      " 1   OP_CARRIER         object \n",
      " 2   TAIL_NUM           object \n",
      " 3   OP_CARRIER_FL_NUM  object \n",
      " 4   ORIGIN_AIRPORT_ID  int64  \n",
      " 5   ORIGIN             object \n",
      " 6   ORIGIN_CITY_NAME   object \n",
      " 7   DEST_AIRPORT_ID    int64  \n",
      " 8   DESTINATION        object \n",
      " 9   DEST_CITY_NAME     object \n",
      " 10  DEP_DELAY          float64\n",
      " 11  ARR_DELAY          float64\n",
      " 12  CANCELLED          float64\n",
      " 13  AIR_TIME           object \n",
      " 14  DISTANCE           object \n",
      " 15  OCCUPANCY_RATE     float64\n",
      "dtypes: float64(4), int64(2), object(10)\n",
      "memory usage: 233.9+ MB\n"
     ]
    }
   ],
   "source": [
    "#check columns in the flight data set\n",
    "flights.info()"
   ]
  },
  {
   "cell_type": "code",
   "execution_count": 1536,
   "metadata": {
    "id": "ebGJyXZvoZoE"
   },
   "outputs": [],
   "source": [
    "#Notice how the AIR_TIME and DISTANCE columns are not numeric, so we change them to numeric type\n",
    "for col in [\"AIR_TIME\", \"DISTANCE\"]:\n",
    "  flights[col] = pd.to_numeric(flights[col], errors='coerce')"
   ]
  },
  {
   "cell_type": "code",
   "execution_count": 1537,
   "metadata": {
    "id": "IPqPJIRtSUZw"
   },
   "outputs": [],
   "source": [
    "#Filter flights dataset to keep only the flights which were not cancelled using the column CANCELLED = 0\n",
    "flights = flights[flights['CANCELLED'] == 0]"
   ]
  },
  {
   "cell_type": "code",
   "execution_count": 1538,
   "metadata": {
    "colab": {
     "base_uri": "https://localhost:8080/",
     "height": 586
    },
    "id": "wHXvMKiUgdpw",
    "outputId": "bc0e4f0a-057c-4217-d1ab-6a5d3173a0a0"
   },
   "outputs": [
    {
     "data": {
      "text/plain": [
       "FL_DATE                 0\n",
       "OP_CARRIER              0\n",
       "TAIL_NUM                0\n",
       "OP_CARRIER_FL_NUM       0\n",
       "ORIGIN_AIRPORT_ID       0\n",
       "ORIGIN                  0\n",
       "ORIGIN_CITY_NAME        0\n",
       "DEST_AIRPORT_ID         0\n",
       "DESTINATION             0\n",
       "DEST_CITY_NAME          0\n",
       "DEP_DELAY               0\n",
       "ARR_DELAY            4377\n",
       "CANCELLED               0\n",
       "AIR_TIME             6857\n",
       "DISTANCE             2680\n",
       "OCCUPANCY_RATE        310\n",
       "dtype: int64"
      ]
     },
     "execution_count": 1538,
     "metadata": {},
     "output_type": "execute_result"
    }
   ],
   "source": [
    "#Check for any null values in the columns\n",
    "flights.isnull().sum()"
   ]
  },
  {
   "cell_type": "code",
   "execution_count": 1539,
   "metadata": {
    "colab": {
     "base_uri": "https://localhost:8080/"
    },
    "id": "kulNa86tk8Kl",
    "outputId": "92088d5b-53d1-4b4d-ad05-7a902b0c5112"
   },
   "outputs": [
    {
     "data": {
      "text/plain": [
       "array([False,  True])"
      ]
     },
     "execution_count": 1539,
     "metadata": {},
     "output_type": "execute_result"
    }
   ],
   "source": [
    "#check for duplicate rows in the flights dataset\n",
    "duplicate_flights = flights.duplicated()\n",
    "duplicate_flights.unique()"
   ]
  },
  {
   "cell_type": "code",
   "execution_count": 1540,
   "metadata": {
    "colab": {
     "base_uri": "https://localhost:8080/"
    },
    "id": "ALDpt5wMu8x0",
    "outputId": "df4e1f1e-8fbe-4fb2-c7ec-d7eded9f3345"
   },
   "outputs": [
    {
     "data": {
      "text/plain": [
       "4410"
      ]
     },
     "execution_count": 1540,
     "metadata": {},
     "output_type": "execute_result"
    }
   ],
   "source": [
    "#check number of duplicate rows\n",
    "flights.duplicated().sum()"
   ]
  },
  {
   "cell_type": "code",
   "execution_count": 1541,
   "metadata": {
    "id": "PhHhGg4xfckb"
   },
   "outputs": [],
   "source": [
    "#Remove duplicates from the flights dataset\n",
    "flights = flights.drop_duplicates()"
   ]
  },
  {
   "cell_type": "code",
   "execution_count": 1542,
   "metadata": {
    "colab": {
     "base_uri": "https://localhost:8080/",
     "height": 586
    },
    "id": "8dVSq3tJlei8",
    "outputId": "155b68a8-214d-4cee-beb4-1267985966bc"
   },
   "outputs": [
    {
     "data": {
      "text/plain": [
       "FL_DATE                 0\n",
       "OP_CARRIER              0\n",
       "TAIL_NUM                0\n",
       "OP_CARRIER_FL_NUM       0\n",
       "ORIGIN_AIRPORT_ID       0\n",
       "ORIGIN                  0\n",
       "ORIGIN_CITY_NAME        0\n",
       "DEST_AIRPORT_ID         0\n",
       "DESTINATION             0\n",
       "DEST_CITY_NAME          0\n",
       "DEP_DELAY               0\n",
       "ARR_DELAY            4368\n",
       "CANCELLED               0\n",
       "AIR_TIME             4616\n",
       "DISTANCE              268\n",
       "OCCUPANCY_RATE         31\n",
       "dtype: int64"
      ]
     },
     "execution_count": 1542,
     "metadata": {},
     "output_type": "execute_result"
    }
   ],
   "source": [
    "#Check for any null values in the columns\n",
    "flights.isnull().sum()"
   ]
  },
  {
   "cell_type": "code",
   "execution_count": 1543,
   "metadata": {
    "id": "0HC2JGQoTagM"
   },
   "outputs": [],
   "source": [
    "#Run the user defined functions created above to downgrade datatypes and replace NaN values\n",
    "flights = downgrade_datatypes(flights)"
   ]
  },
  {
   "cell_type": "code",
   "execution_count": 1544,
   "metadata": {
    "colab": {
     "base_uri": "https://localhost:8080/",
     "height": 586
    },
    "id": "KWTvvTzxp4o_",
    "outputId": "843074e6-5ea9-4073-9d2d-6d03a0318162"
   },
   "outputs": [
    {
     "data": {
      "text/plain": [
       "FL_DATE                 0\n",
       "OP_CARRIER              0\n",
       "TAIL_NUM                0\n",
       "OP_CARRIER_FL_NUM       0\n",
       "ORIGIN_AIRPORT_ID       0\n",
       "ORIGIN                  0\n",
       "ORIGIN_CITY_NAME        0\n",
       "DEST_AIRPORT_ID         0\n",
       "DESTINATION             0\n",
       "DEST_CITY_NAME          0\n",
       "DEP_DELAY               0\n",
       "ARR_DELAY            4368\n",
       "CANCELLED               0\n",
       "AIR_TIME             4616\n",
       "DISTANCE              268\n",
       "OCCUPANCY_RATE         31\n",
       "dtype: int64"
      ]
     },
     "execution_count": 1544,
     "metadata": {},
     "output_type": "execute_result"
    }
   ],
   "source": [
    "#Check for any null values in the columns\n",
    "flights.isnull().sum()"
   ]
  },
  {
   "cell_type": "code",
   "execution_count": 1545,
   "metadata": {
    "id": "KzwrYgnfsp93"
   },
   "outputs": [],
   "source": [
    "#Reset index to account for the removal of filtered data/duplicate data\n",
    "flights = flights.reset_index(drop=True)"
   ]
  },
  {
   "cell_type": "code",
   "execution_count": 1546,
   "metadata": {
    "colab": {
     "base_uri": "https://localhost:8080/",
     "height": 452
    },
    "id": "x65X5yYYqk0a",
    "outputId": "786418d4-344e-4387-dd97-d45f4266beda"
   },
   "outputs": [
    {
     "data": {
      "image/png": "[encoded data removed]",
      "text/plain": [
       "<Figure size 640x480 with 1 Axes>"
      ]
     },
     "metadata": {},
     "output_type": "display_data"
    }
   ],
   "source": [
    "#Create a heatmap chart to see where the null values in the data set are occuring\n",
    "import seaborn as sns\n",
    "import matplotlib.pyplot as plt\n",
    "\n",
    "missing_values = flights.columns[flights.isnull().any()]\n",
    "flights_missing = flights[missing_values]\n",
    "sns.heatmap(flights_missing.isnull(), cbar=False, cmap='viridis')\n",
    "plt.title(\"Missing Data Heatmap\")\n",
    "plt.show()\n",
    "\n",
    "#Based on the plot, there is a correlation between missing data of columns ARR_DELAY and AIR_TIME;\n",
    "#if ARR_DELAY is null, AIR_TIME is null and vice versa"
   ]
  },
  {
   "cell_type": "code",
   "execution_count": 1547,
   "metadata": {
    "colab": {
     "base_uri": "https://localhost:8080/",
     "height": 586
    },
    "id": "OxPTCcbklKBd",
    "outputId": "427b815a-6817-4149-cef7-44dd8adefbd2"
   },
   "outputs": [
    {
     "data": {
      "text/plain": [
       "FL_DATE                 0\n",
       "OP_CARRIER              0\n",
       "TAIL_NUM                0\n",
       "OP_CARRIER_FL_NUM       0\n",
       "ORIGIN_AIRPORT_ID       0\n",
       "ORIGIN                  0\n",
       "ORIGIN_CITY_NAME        0\n",
       "DEST_AIRPORT_ID         0\n",
       "DESTINATION             0\n",
       "DEST_CITY_NAME          0\n",
       "DEP_DELAY               0\n",
       "ARR_DELAY            4368\n",
       "CANCELLED               0\n",
       "AIR_TIME             4616\n",
       "DISTANCE              268\n",
       "OCCUPANCY_RATE         31\n",
       "dtype: int64"
      ]
     },
     "execution_count": 1547,
     "metadata": {},
     "output_type": "execute_result"
    }
   ],
   "source": [
    "#Check for any null values in the columns\n",
    "flights.isnull().sum()"
   ]
  },
  {
   "cell_type": "code",
   "execution_count": 1548,
   "metadata": {
    "colab": {
     "base_uri": "https://localhost:8080/",
     "height": 1000
    },
    "id": "-BEE5rGwpAXA",
    "outputId": "027419f8-6cd4-4b33-fe16-ca409d0495af"
   },
   "outputs": [
    {
     "data": {
      "image/png": "[encoded data removed]",
      "text/plain": [
       "<Figure size 400x400 with 1 Axes>"
      ]
     },
     "metadata": {},
     "output_type": "display_data"
    },
    {
     "data": {
      "image/png": "[encoded data removed]",
      "text/plain": [
       "<Figure size 400x400 with 1 Axes>"
      ]
     },
     "metadata": {},
     "output_type": "display_data"
    },
    {
     "data": {
      "image/png": "[encoded data removed]",
      "text/plain": [
       "<Figure size 400x400 with 1 Axes>"
      ]
     },
     "metadata": {},
     "output_type": "display_data"
    },
    {
     "data": {
      "image/png": "[encoded data removed]",
      "text/plain": [
       "<Figure size 400x400 with 1 Axes>"
      ]
     },
     "metadata": {},
     "output_type": "display_data"
    }
   ],
   "source": [
    "#Create boxplots for each of the 4 columns which contain null values to check for distribution of data and any outliers\n",
    "build_boxplot(flights, 'ARR_DELAY')\n",
    "build_boxplot(flights, 'AIR_TIME')\n",
    "build_boxplot(flights, 'DISTANCE')\n",
    "build_boxplot(flights, 'OCCUPANCY_RATE')"
   ]
  },
  {
   "cell_type": "code",
   "execution_count": 1549,
   "metadata": {
    "colab": {
     "base_uri": "https://localhost:8080/"
    },
    "id": "SykVGiwTjEIm",
    "outputId": "a84ad002-8e5f-41c2-8023-d097afbd3db1"
   },
   "outputs": [],
   "source": [
    "#impute null values with mean for the respective columns\n",
    "columns_to_impute = ['ARR_DELAY', 'AIR_TIME', 'DISTANCE']\n",
    "impute_with_mean(flights,columns_to_impute)"
   ]
  },
  {
   "cell_type": "code",
   "execution_count": 1550,
   "metadata": {},
   "outputs": [],
   "source": [
    "#Create a new column called ROUTE to track for a trip\n",
    "flights['ROUTE'] = flights['ORIGIN'] + ' - ' + flights['DESTINATION']"
   ]
  },
  {
   "cell_type": "markdown",
   "metadata": {
    "id": "JBOZqPMEhrXD"
   },
   "source": [
    "*Data Cleaning/Transformation of Tickets data*"
   ]
  },
  {
   "cell_type": "code",
   "execution_count": 1552,
   "metadata": {
    "colab": {
     "base_uri": "https://localhost:8080/"
    },
    "id": "fTG5dMKlaWsn",
    "outputId": "5f4f7f3e-80fc-4f7e-e962-8e8add5cd4b8"
   },
   "outputs": [
    {
     "name": "stdout",
     "output_type": "stream",
     "text": [
      "<class 'pandas.core.frame.DataFrame'>\n",
      "RangeIndex: 1167285 entries, 0 to 1167284\n",
      "Data columns (total 12 columns):\n",
      " #   Column             Non-Null Count    Dtype  \n",
      "---  ------             --------------    -----  \n",
      " 0   ITIN_ID            1167285 non-null  int64  \n",
      " 1   YEAR               1167285 non-null  int64  \n",
      " 2   QUARTER            1167285 non-null  int64  \n",
      " 3   ORIGIN             1167285 non-null  object \n",
      " 4   ORIGIN_COUNTRY     1167285 non-null  object \n",
      " 5   ORIGIN_STATE_ABR   1167285 non-null  object \n",
      " 6   ORIGIN_STATE_NM    1167285 non-null  object \n",
      " 7   ROUNDTRIP          1167285 non-null  float64\n",
      " 8   REPORTING_CARRIER  1167285 non-null  object \n",
      " 9   PASSENGERS         1165308 non-null  float64\n",
      " 10  ITIN_FARE          1166325 non-null  object \n",
      " 11  DESTINATION        1167285 non-null  object \n",
      "dtypes: float64(2), int64(3), object(7)\n",
      "memory usage: 106.9+ MB\n"
     ]
    }
   ],
   "source": [
    "#Check columns in the tickets data set\n",
    "tickets.info()"
   ]
  },
  {
   "cell_type": "code",
   "execution_count": 1553,
   "metadata": {
    "id": "SgXpCB1Ta_eK"
   },
   "outputs": [],
   "source": [
    "#Filter tickets dataset to keep only the roundtrip tickets using the condition roundtrip = 1\n",
    "tickets = tickets[tickets['ROUNDTRIP'] == 1]"
   ]
  },
  {
   "cell_type": "code",
   "execution_count": 1554,
   "metadata": {
    "id": "0tMKajbW1i22"
   },
   "outputs": [],
   "source": [
    "#column ITIN_FARE is type object, update to type number since fare will be a numeric value\n",
    "tickets['ITIN_FARE'] = pd.to_numeric(tickets['ITIN_FARE'], errors='coerce')"
   ]
  },
  {
   "cell_type": "code",
   "execution_count": 1555,
   "metadata": {
    "colab": {
     "base_uri": "https://localhost:8080/"
    },
    "id": "4lGnK935akVX",
    "outputId": "da577fc6-dfbf-4c2a-fa79-7ae8753fb3f9"
   },
   "outputs": [
    {
     "name": "stdout",
     "output_type": "stream",
     "text": [
      "<class 'pandas.core.frame.DataFrame'>\n",
      "Index: 708600 entries, 0 to 1167284\n",
      "Data columns (total 12 columns):\n",
      " #   Column             Non-Null Count   Dtype  \n",
      "---  ------             --------------   -----  \n",
      " 0   ITIN_ID            708600 non-null  int32  \n",
      " 1   YEAR               708600 non-null  int32  \n",
      " 2   QUARTER            708600 non-null  int32  \n",
      " 3   ORIGIN             708600 non-null  object \n",
      " 4   ORIGIN_COUNTRY     708600 non-null  object \n",
      " 5   ORIGIN_STATE_ABR   708600 non-null  object \n",
      " 6   ORIGIN_STATE_NM    708600 non-null  object \n",
      " 7   ROUNDTRIP          708600 non-null  float32\n",
      " 8   REPORTING_CARRIER  708600 non-null  object \n",
      " 9   PASSENGERS         707403 non-null  float32\n",
      " 10  ITIN_FARE          706750 non-null  float32\n",
      " 11  DESTINATION        708600 non-null  object \n",
      "dtypes: float32(3), int32(3), object(6)\n",
      "memory usage: 54.1+ MB\n"
     ]
    }
   ],
   "source": [
    "#Run the user defined functions created above to downgrade datatypes\n",
    "tickets = downgrade_datatypes(tickets)\n",
    "#tickets = replace_nan(tickets)\n",
    "tickets.info()"
   ]
  },
  {
   "cell_type": "code",
   "execution_count": 1556,
   "metadata": {
    "colab": {
     "base_uri": "https://localhost:8080/"
    },
    "id": "bmt7OFkd2Yl5",
    "outputId": "20ae413f-13f6-4020-9b59-0726d4220266"
   },
   "outputs": [
    {
     "data": {
      "text/plain": [
       "array([False,  True])"
      ]
     },
     "execution_count": 1556,
     "metadata": {},
     "output_type": "execute_result"
    }
   ],
   "source": [
    "#check for duplicate rows in the tickets dataset\n",
    "duplicate_tickets = tickets.duplicated()\n",
    "duplicate_tickets.unique()"
   ]
  },
  {
   "cell_type": "code",
   "execution_count": 1557,
   "metadata": {
    "colab": {
     "base_uri": "https://localhost:8080/"
    },
    "id": "qAWmirgJ2g5z",
    "outputId": "fef3d30d-30d4-40ef-943e-620791a3cd33"
   },
   "outputs": [
    {
     "data": {
      "text/plain": [
       "47564"
      ]
     },
     "execution_count": 1557,
     "metadata": {},
     "output_type": "execute_result"
    }
   ],
   "source": [
    "#check number of duplicate rows\n",
    "tickets.duplicated().sum()"
   ]
  },
  {
   "cell_type": "code",
   "execution_count": 1558,
   "metadata": {
    "id": "DmfxqK9BbdW9"
   },
   "outputs": [],
   "source": [
    "#Remove duplicates from the tickets dataset\n",
    "tickets = tickets.drop_duplicates()"
   ]
  },
  {
   "cell_type": "code",
   "execution_count": 1559,
   "metadata": {
    "colab": {
     "base_uri": "https://localhost:8080/",
     "height": 460
    },
    "id": "S6UEJgKucAc9",
    "outputId": "d2419b59-0a15-4d7b-ee6a-3171c75791bc"
   },
   "outputs": [
    {
     "data": {
      "text/plain": [
       "ITIN_ID                 0\n",
       "YEAR                    0\n",
       "QUARTER                 0\n",
       "ORIGIN                  0\n",
       "ORIGIN_COUNTRY          0\n",
       "ORIGIN_STATE_ABR        0\n",
       "ORIGIN_STATE_NM         0\n",
       "ROUNDTRIP               0\n",
       "REPORTING_CARRIER       0\n",
       "PASSENGERS            960\n",
       "ITIN_FARE            1657\n",
       "DESTINATION             0\n",
       "dtype: int64"
      ]
     },
     "execution_count": 1559,
     "metadata": {},
     "output_type": "execute_result"
    }
   ],
   "source": [
    "#Check for any null values in the columns\n",
    "tickets.isnull().sum()"
   ]
  },
  {
   "cell_type": "code",
   "execution_count": 1560,
   "metadata": {
    "colab": {
     "base_uri": "https://localhost:8080/",
     "height": 971
    },
    "id": "koVtV9gk26CT",
    "outputId": "0994ea84-a6b2-45d9-fbcf-a13f963b51fd"
   },
   "outputs": [
    {
     "data": {
      "image/png": "[encoded data removed]",
      "text/plain": [
       "<Figure size 400x400 with 1 Axes>"
      ]
     },
     "metadata": {},
     "output_type": "display_data"
    },
    {
     "data": {
      "image/png": "[encoded data removed]",
      "text/plain": [
       "<Figure size 400x400 with 1 Axes>"
      ]
     },
     "metadata": {},
     "output_type": "display_data"
    }
   ],
   "source": [
    "#Create boxplots for both columns which contain null values to check for distribution of data and any outliers\n",
    "build_boxplot(tickets, 'PASSENGERS')\n",
    "build_boxplot(tickets, 'ITIN_FARE')"
   ]
  },
  {
   "cell_type": "code",
   "execution_count": 1561,
   "metadata": {
    "colab": {
     "base_uri": "https://localhost:8080/"
    },
    "id": "O9_-apvV3Ilp",
    "outputId": "a82c2637-45d5-404b-fe18-bbc00b16459a"
   },
   "outputs": [],
   "source": [
    "#impute null values with mean for the respective column\n",
    "columns_to_impute = ['PASSENGERS', 'ITIN_FARE']\n",
    "impute_with_mean(tickets,columns_to_impute)"
   ]
  },
  {
   "cell_type": "code",
   "execution_count": 1562,
   "metadata": {
    "colab": {
     "base_uri": "https://localhost:8080/",
     "height": 460
    },
    "id": "js8pwj_Z3c84",
    "outputId": "6fbdf35c-79df-4ec4-d340-0e980cb9a60c"
   },
   "outputs": [
    {
     "data": {
      "text/plain": [
       "ITIN_ID              0\n",
       "YEAR                 0\n",
       "QUARTER              0\n",
       "ORIGIN               0\n",
       "ORIGIN_COUNTRY       0\n",
       "ORIGIN_STATE_ABR     0\n",
       "ORIGIN_STATE_NM      0\n",
       "ROUNDTRIP            0\n",
       "REPORTING_CARRIER    0\n",
       "PASSENGERS           0\n",
       "ITIN_FARE            0\n",
       "DESTINATION          0\n",
       "dtype: int64"
      ]
     },
     "execution_count": 1562,
     "metadata": {},
     "output_type": "execute_result"
    }
   ],
   "source": [
    "#Check for any null values in the columns after imputation\n",
    "tickets.isnull().sum()"
   ]
  },
  {
   "cell_type": "code",
   "execution_count": 1563,
   "metadata": {},
   "outputs": [],
   "source": [
    "#Create a new column called ROUTE to track for each ticket\n",
    "tickets['ROUTE'] = tickets['ORIGIN'] + ' - ' + tickets['DESTINATION']"
   ]
  },
  {
   "cell_type": "code",
   "execution_count": 1564,
   "metadata": {},
   "outputs": [],
   "source": [
    "#Remove columns not needed for our analysis\n",
    "tickets = tickets.drop(['ITIN_ID','ORIGIN_COUNTRY','ORIGIN_STATE_ABR','ORIGIN_STATE_NM', 'ROUNDTRIP', 'REPORTING_CARRIER'], axis = 1)"
   ]
  },
  {
   "cell_type": "code",
   "execution_count": 1565,
   "metadata": {},
   "outputs": [],
   "source": [
    "#Group the ticket set by ROUTE column taking the sum of passengers and average of ITIN_FARE\n",
    "#Assumption - ITIN_FARE is the single person's fare and not the total fare for all passengers\n",
    "tickets = tickets.groupby(['ORIGIN', 'DESTINATION', 'ROUTE']).agg(\n",
    "    total_passengers=('PASSENGERS', 'sum'), \n",
    "    avg_fare=('ITIN_FARE', lambda x: round(x.mean(), 2))\n",
    ").reset_index()"
   ]
  },
  {
   "cell_type": "code",
   "execution_count": 1566,
   "metadata": {},
   "outputs": [
    {
     "data": {
      "text/html": [
       "<div>\n",
       "<style scoped>\n",
       "    .dataframe tbody tr th:only-of-type {\n",
       "        vertical-align: middle;\n",
       "    }\n",
       "\n",
       "    .dataframe tbody tr th {\n",
       "        vertical-align: top;\n",
       "    }\n",
       "\n",
       "    .dataframe thead th {\n",
       "        text-align: right;\n",
       "    }\n",
       "</style>\n",
       "<table border=\"1\" class=\"dataframe\">\n",
       "  <thead>\n",
       "    <tr style=\"text-align: right;\">\n",
       "      <th></th>\n",
       "      <th>ORIGIN</th>\n",
       "      <th>DESTINATION</th>\n",
       "      <th>ROUTE</th>\n",
       "      <th>total_passengers</th>\n",
       "      <th>avg_fare</th>\n",
       "    </tr>\n",
       "  </thead>\n",
       "  <tbody>\n",
       "    <tr>\n",
       "      <th>0</th>\n",
       "      <td>ABE</td>\n",
       "      <td>ABQ</td>\n",
       "      <td>ABE - ABQ</td>\n",
       "      <td>2.0</td>\n",
       "      <td>534.000000</td>\n",
       "    </tr>\n",
       "    <tr>\n",
       "      <th>1</th>\n",
       "      <td>ABE</td>\n",
       "      <td>AGS</td>\n",
       "      <td>ABE - AGS</td>\n",
       "      <td>1.0</td>\n",
       "      <td>299.000000</td>\n",
       "    </tr>\n",
       "    <tr>\n",
       "      <th>2</th>\n",
       "      <td>ABE</td>\n",
       "      <td>AMA</td>\n",
       "      <td>ABE - AMA</td>\n",
       "      <td>1.0</td>\n",
       "      <td>654.000000</td>\n",
       "    </tr>\n",
       "    <tr>\n",
       "      <th>3</th>\n",
       "      <td>ABE</td>\n",
       "      <td>ASE</td>\n",
       "      <td>ABE - ASE</td>\n",
       "      <td>2.0</td>\n",
       "      <td>742.000000</td>\n",
       "    </tr>\n",
       "    <tr>\n",
       "      <th>4</th>\n",
       "      <td>ABE</td>\n",
       "      <td>ATL</td>\n",
       "      <td>ABE - ATL</td>\n",
       "      <td>56.0</td>\n",
       "      <td>506.269989</td>\n",
       "    </tr>\n",
       "  </tbody>\n",
       "</table>\n",
       "</div>"
      ],
      "text/plain": [
       "  ORIGIN DESTINATION      ROUTE  total_passengers    avg_fare\n",
       "0    ABE         ABQ  ABE - ABQ               2.0  534.000000\n",
       "1    ABE         AGS  ABE - AGS               1.0  299.000000\n",
       "2    ABE         AMA  ABE - AMA               1.0  654.000000\n",
       "3    ABE         ASE  ABE - ASE               2.0  742.000000\n",
       "4    ABE         ATL  ABE - ATL              56.0  506.269989"
      ]
     },
     "execution_count": 1566,
     "metadata": {},
     "output_type": "execute_result"
    }
   ],
   "source": [
    "tickets.head()"
   ]
  },
  {
   "cell_type": "markdown",
   "metadata": {
    "id": "ej_dnS1AvFJL"
   },
   "source": [
    "**Question 1: The 10 busiest round trip routes in terms of number of round trip flights in the quarter. Exclude canceled flights when performing the calculation.**"
   ]
  },
  {
   "cell_type": "code",
   "execution_count": 1568,
   "metadata": {},
   "outputs": [
    {
     "data": {
      "text/html": [
       "<div>\n",
       "<style scoped>\n",
       "    .dataframe tbody tr th:only-of-type {\n",
       "        vertical-align: middle;\n",
       "    }\n",
       "\n",
       "    .dataframe tbody tr th {\n",
       "        vertical-align: top;\n",
       "    }\n",
       "\n",
       "    .dataframe thead th {\n",
       "        text-align: right;\n",
       "    }\n",
       "</style>\n",
       "<table border=\"1\" class=\"dataframe\">\n",
       "  <thead>\n",
       "    <tr style=\"text-align: right;\">\n",
       "      <th></th>\n",
       "      <th>FL_DATE</th>\n",
       "      <th>OP_CARRIER</th>\n",
       "      <th>TAIL_NUM</th>\n",
       "      <th>OP_CARRIER_FL_NUM</th>\n",
       "      <th>ORIGIN_AIRPORT_ID</th>\n",
       "      <th>ORIGIN</th>\n",
       "      <th>ORIGIN_CITY_NAME</th>\n",
       "      <th>DEST_AIRPORT_ID</th>\n",
       "      <th>DESTINATION</th>\n",
       "      <th>DEST_CITY_NAME</th>\n",
       "      <th>DEP_DELAY</th>\n",
       "      <th>ARR_DELAY</th>\n",
       "      <th>CANCELLED</th>\n",
       "      <th>AIR_TIME</th>\n",
       "      <th>DISTANCE</th>\n",
       "      <th>OCCUPANCY_RATE</th>\n",
       "      <th>ROUTE</th>\n",
       "    </tr>\n",
       "  </thead>\n",
       "  <tbody>\n",
       "    <tr>\n",
       "      <th>0</th>\n",
       "      <td>2019-03-02</td>\n",
       "      <td>WN</td>\n",
       "      <td>N955WN</td>\n",
       "      <td>4591</td>\n",
       "      <td>14635</td>\n",
       "      <td>RSW</td>\n",
       "      <td>Fort Myers, FL</td>\n",
       "      <td>11042</td>\n",
       "      <td>CLE</td>\n",
       "      <td>Cleveland, OH</td>\n",
       "      <td>-8.0</td>\n",
       "      <td>-6.0</td>\n",
       "      <td>0.0</td>\n",
       "      <td>143.0</td>\n",
       "      <td>1025.0</td>\n",
       "      <td>0.97</td>\n",
       "      <td>RSW - CLE</td>\n",
       "    </tr>\n",
       "    <tr>\n",
       "      <th>1</th>\n",
       "      <td>2019-03-02</td>\n",
       "      <td>WN</td>\n",
       "      <td>N8686A</td>\n",
       "      <td>3231</td>\n",
       "      <td>14635</td>\n",
       "      <td>RSW</td>\n",
       "      <td>Fort Myers, FL</td>\n",
       "      <td>11066</td>\n",
       "      <td>CMH</td>\n",
       "      <td>Columbus, OH</td>\n",
       "      <td>1.0</td>\n",
       "      <td>5.0</td>\n",
       "      <td>0.0</td>\n",
       "      <td>135.0</td>\n",
       "      <td>930.0</td>\n",
       "      <td>0.55</td>\n",
       "      <td>RSW - CMH</td>\n",
       "    </tr>\n",
       "    <tr>\n",
       "      <th>2</th>\n",
       "      <td>2019-03-02</td>\n",
       "      <td>WN</td>\n",
       "      <td>N201LV</td>\n",
       "      <td>3383</td>\n",
       "      <td>14635</td>\n",
       "      <td>RSW</td>\n",
       "      <td>Fort Myers, FL</td>\n",
       "      <td>11066</td>\n",
       "      <td>CMH</td>\n",
       "      <td>Columbus, OH</td>\n",
       "      <td>0.0</td>\n",
       "      <td>4.0</td>\n",
       "      <td>0.0</td>\n",
       "      <td>132.0</td>\n",
       "      <td>930.0</td>\n",
       "      <td>0.91</td>\n",
       "      <td>RSW - CMH</td>\n",
       "    </tr>\n",
       "    <tr>\n",
       "      <th>3</th>\n",
       "      <td>2019-03-02</td>\n",
       "      <td>WN</td>\n",
       "      <td>N413WN</td>\n",
       "      <td>5498</td>\n",
       "      <td>14635</td>\n",
       "      <td>RSW</td>\n",
       "      <td>Fort Myers, FL</td>\n",
       "      <td>11066</td>\n",
       "      <td>CMH</td>\n",
       "      <td>Columbus, OH</td>\n",
       "      <td>11.0</td>\n",
       "      <td>14.0</td>\n",
       "      <td>0.0</td>\n",
       "      <td>136.0</td>\n",
       "      <td>930.0</td>\n",
       "      <td>0.67</td>\n",
       "      <td>RSW - CMH</td>\n",
       "    </tr>\n",
       "    <tr>\n",
       "      <th>4</th>\n",
       "      <td>2019-03-02</td>\n",
       "      <td>WN</td>\n",
       "      <td>N7832A</td>\n",
       "      <td>6933</td>\n",
       "      <td>14635</td>\n",
       "      <td>RSW</td>\n",
       "      <td>Fort Myers, FL</td>\n",
       "      <td>11259</td>\n",
       "      <td>DAL</td>\n",
       "      <td>Dallas, TX</td>\n",
       "      <td>0.0</td>\n",
       "      <td>-17.0</td>\n",
       "      <td>0.0</td>\n",
       "      <td>151.0</td>\n",
       "      <td>1005.0</td>\n",
       "      <td>0.62</td>\n",
       "      <td>RSW - DAL</td>\n",
       "    </tr>\n",
       "  </tbody>\n",
       "</table>\n",
       "</div>"
      ],
      "text/plain": [
       "      FL_DATE OP_CARRIER TAIL_NUM OP_CARRIER_FL_NUM  ORIGIN_AIRPORT_ID ORIGIN  \\\n",
       "0  2019-03-02         WN   N955WN              4591              14635    RSW   \n",
       "1  2019-03-02         WN   N8686A              3231              14635    RSW   \n",
       "2  2019-03-02         WN   N201LV              3383              14635    RSW   \n",
       "3  2019-03-02         WN   N413WN              5498              14635    RSW   \n",
       "4  2019-03-02         WN   N7832A              6933              14635    RSW   \n",
       "\n",
       "  ORIGIN_CITY_NAME  DEST_AIRPORT_ID DESTINATION DEST_CITY_NAME  DEP_DELAY  \\\n",
       "0   Fort Myers, FL            11042         CLE  Cleveland, OH       -8.0   \n",
       "1   Fort Myers, FL            11066         CMH   Columbus, OH        1.0   \n",
       "2   Fort Myers, FL            11066         CMH   Columbus, OH        0.0   \n",
       "3   Fort Myers, FL            11066         CMH   Columbus, OH       11.0   \n",
       "4   Fort Myers, FL            11259         DAL     Dallas, TX        0.0   \n",
       "\n",
       "   ARR_DELAY  CANCELLED  AIR_TIME  DISTANCE  OCCUPANCY_RATE      ROUTE  \n",
       "0       -6.0        0.0     143.0    1025.0            0.97  RSW - CLE  \n",
       "1        5.0        0.0     135.0     930.0            0.55  RSW - CMH  \n",
       "2        4.0        0.0     132.0     930.0            0.91  RSW - CMH  \n",
       "3       14.0        0.0     136.0     930.0            0.67  RSW - CMH  \n",
       "4      -17.0        0.0     151.0    1005.0            0.62  RSW - DAL  "
      ]
     },
     "execution_count": 1568,
     "metadata": {},
     "output_type": "execute_result"
    }
   ],
   "source": [
    "flights.head()"
   ]
  },
  {
   "cell_type": "code",
   "execution_count": 1569,
   "metadata": {},
   "outputs": [],
   "source": [
    "#Create a new column called \"NORMALIZED_ROUTE\" which creates a new column based on ORIGIN and DESTINATION columns\n",
    "#The NORMALIZED_ROUTE column would be same where there for 2 sets where ORIGIN = DESTINATION and DESTINATION = ORIGIN\n",
    "#e.g. EWR - SFO and SFO - EWR  would have the same NORMALIZED_ROUTE of EWR - SFO\n",
    "flights[\"NORMALIZED_ROUTE\"] = flights.apply(\n",
    "    lambda x: \" - \".join(sorted([x[\"ORIGIN\"], x[\"DESTINATION\"]])), axis=1\n",
    ")"
   ]
  },
  {
   "cell_type": "code",
   "execution_count": 1570,
   "metadata": {},
   "outputs": [
    {
     "name": "stdout",
     "output_type": "stream",
     "text": [
      "          ROUTE NORMALIZED_ROUTE  FLIGHT_COUNT\n",
      "5284  SFO - LAX        LAX - SFO          4176\n",
      "3010  LAX - SFO        LAX - SFO          4164\n",
      "4066  ORD - LGA        LGA - ORD          3580\n",
      "3115  LGA - ORD        LGA - ORD          3576\n",
      "2971  LAX - LAS        LAS - LAX          3257\n",
      "...         ...              ...           ...\n",
      "4212  PBI - MSP        MSP - PBI             1\n",
      "4176  PAE - DEN        DEN - PAE             1\n",
      "3551  MKE - ESC        ESC - MKE             1\n",
      "3622  MSN - LAX        LAX - MSN             1\n",
      "4037  ORD - FAT        FAT - ORD             1\n",
      "\n",
      "[5917 rows x 3 columns]\n",
      "     NORMALIZED_ROUTE  FLIGHT_COUNT\n",
      "2255        LAX - SFO          4164\n",
      "2299        LGA - ORD          3576\n",
      "2158        LAS - LAX          3254\n",
      "2099        JFK - LAX          3158\n",
      "2254        LAX - SEA          2497\n",
      "...               ...           ...\n",
      "2243        LAX - PSC             1\n",
      "101         APN - CLE             1\n",
      "2296        LGA - MTJ             1\n",
      "103         APN - MBS             1\n",
      "155         ATL - ELM             1\n",
      "\n",
      "[2972 rows x 2 columns]\n"
     ]
    }
   ],
   "source": [
    "#Count the occurrences of each route as they appear in the ROUTE and NORMALIZED_ROUTE columns\n",
    "#Take the lower of both values to count the total number of round trips for a route\n",
    "#e.g. if route EWR - SFO has 120 flights and SFO - EWR has 130 flights, round trip FLIGHT_COUNT would show 120\n",
    "busiest_routes = flights.groupby(['ROUTE', 'NORMALIZED_ROUTE']).size().reset_index(name='FLIGHT_COUNT')\n",
    "\n",
    "busiest_routes.columns = ['ROUTE', 'NORMALIZED_ROUTE', 'FLIGHT_COUNT']\n",
    "print(busiest_routes.sort_values(by = 'FLIGHT_COUNT', ascending = False))\n",
    "\n",
    "busiest_routes = (busiest_routes.groupby('NORMALIZED_ROUTE')['FLIGHT_COUNT'].min().reset_index().sort_values(by='FLIGHT_COUNT', ascending=False))\n",
    "print(busiest_routes)\n"
   ]
  },
  {
   "cell_type": "code",
   "execution_count": 1571,
   "metadata": {},
   "outputs": [
    {
     "data": {
      "image/png": "[encoded data removed]",
      "text/plain": [
       "<Figure size 1000x600 with 1 Axes>"
      ]
     },
     "metadata": {},
     "output_type": "display_data"
    }
   ],
   "source": [
    "#create chart to show top 10 routes by round trips\n",
    "busiest_routes = busiest_routes.sort_values(by=\"FLIGHT_COUNT\", ascending=False).head(10)\n",
    "\n",
    "# Plotting the top 10 round trips\n",
    "plt.figure(figsize=(10, 6))\n",
    "plt.bar(busiest_routes[\"NORMALIZED_ROUTE\"], busiest_routes[\"FLIGHT_COUNT\"], color='lightgreen')\n",
    "plt.xlabel(\"Routes\")\n",
    "plt.ylabel(\"Count of Round Trips\")\n",
    "plt.title(\"Top 10 Busiest Routes\")\n",
    "plt.xticks(rotation=45, ha='right')  \n",
    "plt.tight_layout()  \n",
    "plt.show()"
   ]
  },
  {
   "cell_type": "markdown",
   "metadata": {
    "id": "ej_dnS1AvFJL"
   },
   "source": [
    "**Question 2: The 10 most profitable round trip routes (without considering the upfront airplane cost) in  the quarter. Along with the profit, show total revenue, total cost, summary values of other key components and total round trip flights in the quarter for the top 10 most profitable routes. Exclude canceled flights from these calculations.**"
   ]
  },
  {
   "cell_type": "code",
   "execution_count": 1573,
   "metadata": {},
   "outputs": [],
   "source": [
    "#Merge with airport codes data set to get origin airport details using the reusable function \"join_data\"\n",
    "#New variable \"profitable_routes\" is created to store the merged data from all 3 sets\n",
    "profitable_routes = join_data(flights, airport_codes, left_column='ORIGIN', right_column='IATA_CODE')\n",
    "profitable_routes.drop(columns=['NAME', 'IATA_CODE'], inplace=True)\n",
    "profitable_routes.rename(columns={'TYPE': 'ORIGIN_TYPE'}, inplace=True)\n",
    "\n",
    "#Merge with airport codes data set to get destination airport details\n",
    "profitable_routes = join_data(profitable_routes, airport_codes, left_column='DESTINATION', right_column='IATA_CODE')\n",
    "profitable_routes.drop(columns=['NAME', 'IATA_CODE'], inplace=True)\n",
    "profitable_routes.rename(columns={'TYPE': 'DESTINATION_TYPE'}, inplace=True)\n",
    "\n",
    "#Merge with tickets data set to get the average price per ticket by route\n",
    "profitable_routes = join_data(profitable_routes, tickets, left_column='ROUTE', right_column='ROUTE')\n",
    "profitable_routes.drop(columns=['ORIGIN_y', 'DESTINATION_y', 'total_passengers'], inplace=True)"
   ]
  },
  {
   "cell_type": "code",
   "execution_count": 1574,
   "metadata": {},
   "outputs": [],
   "source": [
    "#Create new columns to calculate different costs and revenues associated with each flight\n",
    "profitable_routes['MAINTENANCE_COSTS'] = profitable_routes['DISTANCE']*(8+1.18)\n",
    "profitable_routes['OPERATIONAL_COSTS'] = profitable_routes['ORIGIN_TYPE'].apply(lambda x: 5000 if x == 'medium_airport' else 10000) + profitable_routes['DESTINATION_TYPE'].apply(lambda x: 5000 if x == 'medium_airport' else 10000)\n",
    "profitable_routes['DELAY_COST'] = profitable_routes['ARR_DELAY'].apply(lambda x: 75*(x-15) if x > 15 else 0) + profitable_routes['DEP_DELAY'].apply(lambda x: 75*(x-15) if x > 15 else 0)\n",
    "profitable_routes['PASSENGERS'] = profitable_routes['OCCUPANCY_RATE']*200\n",
    "profitable_routes['TOTAL_FARE'] = profitable_routes['avg_fare']*profitable_routes['PASSENGERS']\n",
    "profitable_routes['BAGGAGE_FEE'] = profitable_routes['PASSENGERS']*0.5*70\n",
    "profitable_routes['TOTAL_REVENUE'] = profitable_routes['TOTAL_FARE'] + profitable_routes['BAGGAGE_FEE']\n",
    "profitable_routes['TOTAL_COST'] = profitable_routes['MAINTENANCE_COSTS'] + profitable_routes['OPERATIONAL_COSTS'] + profitable_routes['DELAY_COST']\n",
    "profitable_routes['PROFIT'] = profitable_routes['TOTAL_REVENUE'] - profitable_routes['TOTAL_COST']"
   ]
  },
  {
   "cell_type": "code",
   "execution_count": 1575,
   "metadata": {},
   "outputs": [
    {
     "data": {
      "text/html": [
       "<div>\n",
       "<style scoped>\n",
       "    .dataframe tbody tr th:only-of-type {\n",
       "        vertical-align: middle;\n",
       "    }\n",
       "\n",
       "    .dataframe tbody tr th {\n",
       "        vertical-align: top;\n",
       "    }\n",
       "\n",
       "    .dataframe thead th {\n",
       "        text-align: right;\n",
       "    }\n",
       "</style>\n",
       "<table border=\"1\" class=\"dataframe\">\n",
       "  <thead>\n",
       "    <tr style=\"text-align: right;\">\n",
       "      <th></th>\n",
       "      <th>FL_DATE</th>\n",
       "      <th>OP_CARRIER</th>\n",
       "      <th>TAIL_NUM</th>\n",
       "      <th>OP_CARRIER_FL_NUM</th>\n",
       "      <th>ORIGIN_AIRPORT_ID</th>\n",
       "      <th>ORIGIN_x</th>\n",
       "      <th>ORIGIN_CITY_NAME</th>\n",
       "      <th>DEST_AIRPORT_ID</th>\n",
       "      <th>DESTINATION_x</th>\n",
       "      <th>DEST_CITY_NAME</th>\n",
       "      <th>...</th>\n",
       "      <th>avg_fare</th>\n",
       "      <th>MAINTENANCE_COSTS</th>\n",
       "      <th>OPERATIONAL_COSTS</th>\n",
       "      <th>DELAY_COST</th>\n",
       "      <th>PASSENGERS</th>\n",
       "      <th>TOTAL_FARE</th>\n",
       "      <th>BAGGAGE_FEE</th>\n",
       "      <th>TOTAL_REVENUE</th>\n",
       "      <th>TOTAL_COST</th>\n",
       "      <th>PROFIT</th>\n",
       "    </tr>\n",
       "  </thead>\n",
       "  <tbody>\n",
       "    <tr>\n",
       "      <th>0</th>\n",
       "      <td>2019-03-02</td>\n",
       "      <td>WN</td>\n",
       "      <td>N955WN</td>\n",
       "      <td>4591</td>\n",
       "      <td>14635</td>\n",
       "      <td>RSW</td>\n",
       "      <td>Fort Myers, FL</td>\n",
       "      <td>11042</td>\n",
       "      <td>CLE</td>\n",
       "      <td>Cleveland, OH</td>\n",
       "      <td>...</td>\n",
       "      <td>239.289993</td>\n",
       "      <td>9409.5</td>\n",
       "      <td>20000</td>\n",
       "      <td>0.0</td>\n",
       "      <td>194.0</td>\n",
       "      <td>46422.257812</td>\n",
       "      <td>6790.0</td>\n",
       "      <td>53212.257812</td>\n",
       "      <td>29409.5</td>\n",
       "      <td>23802.757812</td>\n",
       "    </tr>\n",
       "    <tr>\n",
       "      <th>1</th>\n",
       "      <td>2019-03-02</td>\n",
       "      <td>WN</td>\n",
       "      <td>N8686A</td>\n",
       "      <td>3231</td>\n",
       "      <td>14635</td>\n",
       "      <td>RSW</td>\n",
       "      <td>Fort Myers, FL</td>\n",
       "      <td>11066</td>\n",
       "      <td>CMH</td>\n",
       "      <td>Columbus, OH</td>\n",
       "      <td>...</td>\n",
       "      <td>262.829987</td>\n",
       "      <td>8537.4</td>\n",
       "      <td>20000</td>\n",
       "      <td>0.0</td>\n",
       "      <td>110.0</td>\n",
       "      <td>28911.298828</td>\n",
       "      <td>3850.0</td>\n",
       "      <td>32761.298828</td>\n",
       "      <td>28537.4</td>\n",
       "      <td>4223.898828</td>\n",
       "    </tr>\n",
       "    <tr>\n",
       "      <th>2</th>\n",
       "      <td>2019-03-02</td>\n",
       "      <td>WN</td>\n",
       "      <td>N201LV</td>\n",
       "      <td>3383</td>\n",
       "      <td>14635</td>\n",
       "      <td>RSW</td>\n",
       "      <td>Fort Myers, FL</td>\n",
       "      <td>11066</td>\n",
       "      <td>CMH</td>\n",
       "      <td>Columbus, OH</td>\n",
       "      <td>...</td>\n",
       "      <td>262.829987</td>\n",
       "      <td>8537.4</td>\n",
       "      <td>20000</td>\n",
       "      <td>0.0</td>\n",
       "      <td>182.0</td>\n",
       "      <td>47835.058594</td>\n",
       "      <td>6370.0</td>\n",
       "      <td>54205.058594</td>\n",
       "      <td>28537.4</td>\n",
       "      <td>25667.658594</td>\n",
       "    </tr>\n",
       "    <tr>\n",
       "      <th>3</th>\n",
       "      <td>2019-03-02</td>\n",
       "      <td>WN</td>\n",
       "      <td>N413WN</td>\n",
       "      <td>5498</td>\n",
       "      <td>14635</td>\n",
       "      <td>RSW</td>\n",
       "      <td>Fort Myers, FL</td>\n",
       "      <td>11066</td>\n",
       "      <td>CMH</td>\n",
       "      <td>Columbus, OH</td>\n",
       "      <td>...</td>\n",
       "      <td>262.829987</td>\n",
       "      <td>8537.4</td>\n",
       "      <td>20000</td>\n",
       "      <td>0.0</td>\n",
       "      <td>134.0</td>\n",
       "      <td>35219.218750</td>\n",
       "      <td>4690.0</td>\n",
       "      <td>39909.218750</td>\n",
       "      <td>28537.4</td>\n",
       "      <td>11371.818750</td>\n",
       "    </tr>\n",
       "    <tr>\n",
       "      <th>4</th>\n",
       "      <td>2019-03-02</td>\n",
       "      <td>WN</td>\n",
       "      <td>N7832A</td>\n",
       "      <td>6933</td>\n",
       "      <td>14635</td>\n",
       "      <td>RSW</td>\n",
       "      <td>Fort Myers, FL</td>\n",
       "      <td>11259</td>\n",
       "      <td>DAL</td>\n",
       "      <td>Dallas, TX</td>\n",
       "      <td>...</td>\n",
       "      <td>405.549988</td>\n",
       "      <td>9225.9</td>\n",
       "      <td>20000</td>\n",
       "      <td>0.0</td>\n",
       "      <td>124.0</td>\n",
       "      <td>50288.199219</td>\n",
       "      <td>4340.0</td>\n",
       "      <td>54628.199219</td>\n",
       "      <td>29225.9</td>\n",
       "      <td>25402.299219</td>\n",
       "    </tr>\n",
       "  </tbody>\n",
       "</table>\n",
       "<p>5 rows × 30 columns</p>\n",
       "</div>"
      ],
      "text/plain": [
       "      FL_DATE OP_CARRIER TAIL_NUM OP_CARRIER_FL_NUM  ORIGIN_AIRPORT_ID  \\\n",
       "0  2019-03-02         WN   N955WN              4591              14635   \n",
       "1  2019-03-02         WN   N8686A              3231              14635   \n",
       "2  2019-03-02         WN   N201LV              3383              14635   \n",
       "3  2019-03-02         WN   N413WN              5498              14635   \n",
       "4  2019-03-02         WN   N7832A              6933              14635   \n",
       "\n",
       "  ORIGIN_x ORIGIN_CITY_NAME  DEST_AIRPORT_ID DESTINATION_x DEST_CITY_NAME  \\\n",
       "0      RSW   Fort Myers, FL            11042           CLE  Cleveland, OH   \n",
       "1      RSW   Fort Myers, FL            11066           CMH   Columbus, OH   \n",
       "2      RSW   Fort Myers, FL            11066           CMH   Columbus, OH   \n",
       "3      RSW   Fort Myers, FL            11066           CMH   Columbus, OH   \n",
       "4      RSW   Fort Myers, FL            11259           DAL     Dallas, TX   \n",
       "\n",
       "   ...    avg_fare  MAINTENANCE_COSTS  OPERATIONAL_COSTS  DELAY_COST  \\\n",
       "0  ...  239.289993             9409.5              20000         0.0   \n",
       "1  ...  262.829987             8537.4              20000         0.0   \n",
       "2  ...  262.829987             8537.4              20000         0.0   \n",
       "3  ...  262.829987             8537.4              20000         0.0   \n",
       "4  ...  405.549988             9225.9              20000         0.0   \n",
       "\n",
       "   PASSENGERS    TOTAL_FARE BAGGAGE_FEE TOTAL_REVENUE TOTAL_COST        PROFIT  \n",
       "0       194.0  46422.257812      6790.0  53212.257812    29409.5  23802.757812  \n",
       "1       110.0  28911.298828      3850.0  32761.298828    28537.4   4223.898828  \n",
       "2       182.0  47835.058594      6370.0  54205.058594    28537.4  25667.658594  \n",
       "3       134.0  35219.218750      4690.0  39909.218750    28537.4  11371.818750  \n",
       "4       124.0  50288.199219      4340.0  54628.199219    29225.9  25402.299219  \n",
       "\n",
       "[5 rows x 30 columns]"
      ]
     },
     "execution_count": 1575,
     "metadata": {},
     "output_type": "execute_result"
    }
   ],
   "source": [
    "profitable_routes.head()"
   ]
  },
  {
   "cell_type": "code",
   "execution_count": 1576,
   "metadata": {},
   "outputs": [
    {
     "name": "stdout",
     "output_type": "stream",
     "text": [
      "434.01776\n"
     ]
    }
   ],
   "source": [
    "#Check mean fare for all flights\n",
    "print(profitable_routes['avg_fare'].mean())"
   ]
  },
  {
   "cell_type": "code",
   "execution_count": 1577,
   "metadata": {},
   "outputs": [],
   "source": [
    "#Noticed the average fare was quite high for some tickets randomly\n",
    "#We will get rid of these outlier fares since it is skewing the data and giving incorrect result\n",
    "#Calculate Z-scores\n",
    "#Z-score is a measurement that describes how many standard deviations away is a data point from the mean\n",
    "z_scores = np.abs(stats.zscore(profitable_routes['avg_fare']))\n",
    "\n",
    "# Remove rows where the Z-score is greater than 3. \n",
    "#If the score is 3x more than mean, we will remove it as it is most likely an anamoly caused by manual error or holiday pricing\n",
    "profitable_routes = profitable_routes[z_scores < 3]"
   ]
  },
  {
   "cell_type": "code",
   "execution_count": 1578,
   "metadata": {},
   "outputs": [],
   "source": [
    "#Group the route data based on the \"NORMALIZED_ROUTE\" column and calculate aggregated cost and revenue columns\n",
    "profitable_routes = profitable_routes.groupby('NORMALIZED_ROUTE').agg({\n",
    "    'MAINTENANCE_COSTS': 'sum',  \n",
    "    'OPERATIONAL_COSTS': 'sum',  \n",
    "    'DELAY_COST': 'sum',  \n",
    "    'TOTAL_FARE': 'sum',     \n",
    "    'BAGGAGE_FEE': 'sum',  \n",
    "    'TOTAL_REVENUE': 'sum',\n",
    "    'TOTAL_COST': 'sum',\n",
    "    'PROFIT': ['sum', 'mean'],\n",
    "    'OCCUPANCY_RATE': 'mean',\n",
    "    'ARR_DELAY': 'mean',\n",
    "    'DEP_DELAY': 'mean'\n",
    "}).reset_index()\n",
    "\n",
    "profitable_routes.columns = [\n",
    "    'NORMALIZED_ROUTE',\n",
    "    'MAINTENANCE_COSTS',\n",
    "    'OPERATIONAL_COSTS',\n",
    "    'DELAY_COST',\n",
    "    'TOTAL_FARE',\n",
    "    'BAGGAGE_FEE',\n",
    "    'TOTAL_REVENUE',\n",
    "    'TOTAL_COST',\n",
    "    'PROFIT_SUM',         \n",
    "    'PROFIT_MEAN',        \n",
    "    'OCCUPANCY_RATE',\n",
    "    'ARR_DELAY',\n",
    "    'DEP_DELAY'\n",
    "]"
   ]
  },
  {
   "cell_type": "code",
   "execution_count": 1579,
   "metadata": {},
   "outputs": [
    {
     "data": {
      "image/png": "[encoded data removed]",
      "text/plain": [
       "<Figure size 1000x600 with 1 Axes>"
      ]
     },
     "metadata": {},
     "output_type": "display_data"
    }
   ],
   "source": [
    "#Plot chart based on top 10 routes by profit\n",
    "#Create new \"top_10_profitable_routes\" variable to store the top 10 routes which have the most profit sorted by PROFIT_SUM column\n",
    "top_10_profitable_routes = profitable_routes.sort_values(by=\"PROFIT_SUM\", ascending=False).head(10)\n",
    "\n",
    "# Plotting the top 10 round trips\n",
    "plt.figure(figsize=(10, 6))\n",
    "plt.barh(top_10_profitable_routes['NORMALIZED_ROUTE'], top_10_profitable_routes['PROFIT_SUM'], color='goldenrod')\n",
    "plt.xlabel(\"Net Profit ($)\")\n",
    "plt.ylabel(\"Routes\")\n",
    "plt.title(\"Top 10 Routes by Net Profit\")\n",
    "plt.gca().invert_yaxis()  # Invert y-axis for better visualization\n",
    "plt.show()"
   ]
  },
  {
   "cell_type": "markdown",
   "metadata": {
    "id": "ej_dnS1AvFJL"
   },
   "source": [
    "**Question 3:  The 5 round trip routes that you recommend to invest in based on any factors that you choose.**"
   ]
  },
  {
   "cell_type": "code",
   "execution_count": 1581,
   "metadata": {},
   "outputs": [
    {
     "data": {
      "text/html": [
       "<div>\n",
       "<style scoped>\n",
       "    .dataframe tbody tr th:only-of-type {\n",
       "        vertical-align: middle;\n",
       "    }\n",
       "\n",
       "    .dataframe tbody tr th {\n",
       "        vertical-align: top;\n",
       "    }\n",
       "\n",
       "    .dataframe thead th {\n",
       "        text-align: right;\n",
       "    }\n",
       "</style>\n",
       "<table border=\"1\" class=\"dataframe\">\n",
       "  <thead>\n",
       "    <tr style=\"text-align: right;\">\n",
       "      <th></th>\n",
       "      <th>FL_DATE</th>\n",
       "      <th>OP_CARRIER</th>\n",
       "      <th>TAIL_NUM</th>\n",
       "      <th>OP_CARRIER_FL_NUM</th>\n",
       "      <th>ORIGIN_AIRPORT_ID</th>\n",
       "      <th>ORIGIN</th>\n",
       "      <th>ORIGIN_CITY_NAME</th>\n",
       "      <th>DEST_AIRPORT_ID</th>\n",
       "      <th>DESTINATION</th>\n",
       "      <th>DEST_CITY_NAME</th>\n",
       "      <th>DEP_DELAY</th>\n",
       "      <th>ARR_DELAY</th>\n",
       "      <th>CANCELLED</th>\n",
       "      <th>AIR_TIME</th>\n",
       "      <th>DISTANCE</th>\n",
       "      <th>OCCUPANCY_RATE</th>\n",
       "      <th>ROUTE</th>\n",
       "      <th>NORMALIZED_ROUTE</th>\n",
       "    </tr>\n",
       "  </thead>\n",
       "  <tbody>\n",
       "    <tr>\n",
       "      <th>0</th>\n",
       "      <td>2019-03-02</td>\n",
       "      <td>WN</td>\n",
       "      <td>N955WN</td>\n",
       "      <td>4591</td>\n",
       "      <td>14635</td>\n",
       "      <td>RSW</td>\n",
       "      <td>Fort Myers, FL</td>\n",
       "      <td>11042</td>\n",
       "      <td>CLE</td>\n",
       "      <td>Cleveland, OH</td>\n",
       "      <td>-8.0</td>\n",
       "      <td>-6.0</td>\n",
       "      <td>0.0</td>\n",
       "      <td>143.0</td>\n",
       "      <td>1025.0</td>\n",
       "      <td>0.97</td>\n",
       "      <td>RSW - CLE</td>\n",
       "      <td>CLE - RSW</td>\n",
       "    </tr>\n",
       "    <tr>\n",
       "      <th>1</th>\n",
       "      <td>2019-03-02</td>\n",
       "      <td>WN</td>\n",
       "      <td>N8686A</td>\n",
       "      <td>3231</td>\n",
       "      <td>14635</td>\n",
       "      <td>RSW</td>\n",
       "      <td>Fort Myers, FL</td>\n",
       "      <td>11066</td>\n",
       "      <td>CMH</td>\n",
       "      <td>Columbus, OH</td>\n",
       "      <td>1.0</td>\n",
       "      <td>5.0</td>\n",
       "      <td>0.0</td>\n",
       "      <td>135.0</td>\n",
       "      <td>930.0</td>\n",
       "      <td>0.55</td>\n",
       "      <td>RSW - CMH</td>\n",
       "      <td>CMH - RSW</td>\n",
       "    </tr>\n",
       "    <tr>\n",
       "      <th>2</th>\n",
       "      <td>2019-03-02</td>\n",
       "      <td>WN</td>\n",
       "      <td>N201LV</td>\n",
       "      <td>3383</td>\n",
       "      <td>14635</td>\n",
       "      <td>RSW</td>\n",
       "      <td>Fort Myers, FL</td>\n",
       "      <td>11066</td>\n",
       "      <td>CMH</td>\n",
       "      <td>Columbus, OH</td>\n",
       "      <td>0.0</td>\n",
       "      <td>4.0</td>\n",
       "      <td>0.0</td>\n",
       "      <td>132.0</td>\n",
       "      <td>930.0</td>\n",
       "      <td>0.91</td>\n",
       "      <td>RSW - CMH</td>\n",
       "      <td>CMH - RSW</td>\n",
       "    </tr>\n",
       "    <tr>\n",
       "      <th>3</th>\n",
       "      <td>2019-03-02</td>\n",
       "      <td>WN</td>\n",
       "      <td>N413WN</td>\n",
       "      <td>5498</td>\n",
       "      <td>14635</td>\n",
       "      <td>RSW</td>\n",
       "      <td>Fort Myers, FL</td>\n",
       "      <td>11066</td>\n",
       "      <td>CMH</td>\n",
       "      <td>Columbus, OH</td>\n",
       "      <td>11.0</td>\n",
       "      <td>14.0</td>\n",
       "      <td>0.0</td>\n",
       "      <td>136.0</td>\n",
       "      <td>930.0</td>\n",
       "      <td>0.67</td>\n",
       "      <td>RSW - CMH</td>\n",
       "      <td>CMH - RSW</td>\n",
       "    </tr>\n",
       "    <tr>\n",
       "      <th>4</th>\n",
       "      <td>2019-03-02</td>\n",
       "      <td>WN</td>\n",
       "      <td>N7832A</td>\n",
       "      <td>6933</td>\n",
       "      <td>14635</td>\n",
       "      <td>RSW</td>\n",
       "      <td>Fort Myers, FL</td>\n",
       "      <td>11259</td>\n",
       "      <td>DAL</td>\n",
       "      <td>Dallas, TX</td>\n",
       "      <td>0.0</td>\n",
       "      <td>-17.0</td>\n",
       "      <td>0.0</td>\n",
       "      <td>151.0</td>\n",
       "      <td>1005.0</td>\n",
       "      <td>0.62</td>\n",
       "      <td>RSW - DAL</td>\n",
       "      <td>DAL - RSW</td>\n",
       "    </tr>\n",
       "  </tbody>\n",
       "</table>\n",
       "</div>"
      ],
      "text/plain": [
       "      FL_DATE OP_CARRIER TAIL_NUM OP_CARRIER_FL_NUM  ORIGIN_AIRPORT_ID ORIGIN  \\\n",
       "0  2019-03-02         WN   N955WN              4591              14635    RSW   \n",
       "1  2019-03-02         WN   N8686A              3231              14635    RSW   \n",
       "2  2019-03-02         WN   N201LV              3383              14635    RSW   \n",
       "3  2019-03-02         WN   N413WN              5498              14635    RSW   \n",
       "4  2019-03-02         WN   N7832A              6933              14635    RSW   \n",
       "\n",
       "  ORIGIN_CITY_NAME  DEST_AIRPORT_ID DESTINATION DEST_CITY_NAME  DEP_DELAY  \\\n",
       "0   Fort Myers, FL            11042         CLE  Cleveland, OH       -8.0   \n",
       "1   Fort Myers, FL            11066         CMH   Columbus, OH        1.0   \n",
       "2   Fort Myers, FL            11066         CMH   Columbus, OH        0.0   \n",
       "3   Fort Myers, FL            11066         CMH   Columbus, OH       11.0   \n",
       "4   Fort Myers, FL            11259         DAL     Dallas, TX        0.0   \n",
       "\n",
       "   ARR_DELAY  CANCELLED  AIR_TIME  DISTANCE  OCCUPANCY_RATE      ROUTE  \\\n",
       "0       -6.0        0.0     143.0    1025.0            0.97  RSW - CLE   \n",
       "1        5.0        0.0     135.0     930.0            0.55  RSW - CMH   \n",
       "2        4.0        0.0     132.0     930.0            0.91  RSW - CMH   \n",
       "3       14.0        0.0     136.0     930.0            0.67  RSW - CMH   \n",
       "4      -17.0        0.0     151.0    1005.0            0.62  RSW - DAL   \n",
       "\n",
       "  NORMALIZED_ROUTE  \n",
       "0        CLE - RSW  \n",
       "1        CMH - RSW  \n",
       "2        CMH - RSW  \n",
       "3        CMH - RSW  \n",
       "4        DAL - RSW  "
      ]
     },
     "execution_count": 1581,
     "metadata": {},
     "output_type": "execute_result"
    }
   ],
   "source": [
    "flights.head()"
   ]
  },
  {
   "cell_type": "code",
   "execution_count": 1582,
   "metadata": {},
   "outputs": [
    {
     "data": {
      "text/html": [
       "<div>\n",
       "<style scoped>\n",
       "    .dataframe tbody tr th:only-of-type {\n",
       "        vertical-align: middle;\n",
       "    }\n",
       "\n",
       "    .dataframe tbody tr th {\n",
       "        vertical-align: top;\n",
       "    }\n",
       "\n",
       "    .dataframe thead th {\n",
       "        text-align: right;\n",
       "    }\n",
       "</style>\n",
       "<table border=\"1\" class=\"dataframe\">\n",
       "  <thead>\n",
       "    <tr style=\"text-align: right;\">\n",
       "      <th></th>\n",
       "      <th>NORMALIZED_ROUTE</th>\n",
       "      <th>MAINTENANCE_COSTS</th>\n",
       "      <th>OPERATIONAL_COSTS</th>\n",
       "      <th>DELAY_COST</th>\n",
       "      <th>TOTAL_FARE</th>\n",
       "      <th>BAGGAGE_FEE</th>\n",
       "      <th>TOTAL_REVENUE</th>\n",
       "      <th>TOTAL_COST</th>\n",
       "      <th>PROFIT_SUM</th>\n",
       "      <th>PROFIT_MEAN</th>\n",
       "      <th>OCCUPANCY_RATE</th>\n",
       "      <th>ARR_DELAY</th>\n",
       "      <th>DEP_DELAY</th>\n",
       "    </tr>\n",
       "  </thead>\n",
       "  <tbody>\n",
       "    <tr>\n",
       "      <th>2287</th>\n",
       "      <td>MDT - PHL</td>\n",
       "      <td>306905.76</td>\n",
       "      <td>5970000</td>\n",
       "      <td>443625.0</td>\n",
       "      <td>46724416.0</td>\n",
       "      <td>1.799070e+06</td>\n",
       "      <td>4.852349e+07</td>\n",
       "      <td>6.720531e+06</td>\n",
       "      <td>4.180296e+07</td>\n",
       "      <td>105032.555920</td>\n",
       "      <td>0.645754</td>\n",
       "      <td>4.756281</td>\n",
       "      <td>6.045226</td>\n",
       "    </tr>\n",
       "    <tr>\n",
       "      <th>45</th>\n",
       "      <td>ADK - ANC</td>\n",
       "      <td>503357.76</td>\n",
       "      <td>690000</td>\n",
       "      <td>32925.0</td>\n",
       "      <td>5270137.0</td>\n",
       "      <td>2.126600e+05</td>\n",
       "      <td>5.482797e+06</td>\n",
       "      <td>1.226283e+06</td>\n",
       "      <td>4.256514e+06</td>\n",
       "      <td>92532.923008</td>\n",
       "      <td>0.660435</td>\n",
       "      <td>-12.543478</td>\n",
       "      <td>-0.543478</td>\n",
       "    </tr>\n",
       "    <tr>\n",
       "      <th>1247</th>\n",
       "      <td>DEN - SUN</td>\n",
       "      <td>746535.96</td>\n",
       "      <td>2190000</td>\n",
       "      <td>149475.0</td>\n",
       "      <td>15780353.0</td>\n",
       "      <td>6.714400e+05</td>\n",
       "      <td>1.645179e+07</td>\n",
       "      <td>3.086011e+06</td>\n",
       "      <td>1.336578e+07</td>\n",
       "      <td>91546.451102</td>\n",
       "      <td>0.656986</td>\n",
       "      <td>0.779497</td>\n",
       "      <td>7.191781</td>\n",
       "    </tr>\n",
       "    <tr>\n",
       "      <th>1477</th>\n",
       "      <td>EGE - JFK</td>\n",
       "      <td>1041838.20</td>\n",
       "      <td>975000</td>\n",
       "      <td>120075.0</td>\n",
       "      <td>7718944.0</td>\n",
       "      <td>3.098200e+05</td>\n",
       "      <td>8.028764e+06</td>\n",
       "      <td>2.136913e+06</td>\n",
       "      <td>5.891851e+06</td>\n",
       "      <td>90643.858089</td>\n",
       "      <td>0.680923</td>\n",
       "      <td>24.056311</td>\n",
       "      <td>5.830769</td>\n",
       "    </tr>\n",
       "    <tr>\n",
       "      <th>1197</th>\n",
       "      <td>DEN - MOT</td>\n",
       "      <td>1874115.36</td>\n",
       "      <td>5070000</td>\n",
       "      <td>904125.0</td>\n",
       "      <td>34509444.0</td>\n",
       "      <td>1.552670e+06</td>\n",
       "      <td>3.606211e+07</td>\n",
       "      <td>7.848240e+06</td>\n",
       "      <td>2.821387e+07</td>\n",
       "      <td>83472.999054</td>\n",
       "      <td>0.656243</td>\n",
       "      <td>17.460533</td>\n",
       "      <td>16.411243</td>\n",
       "    </tr>\n",
       "    <tr>\n",
       "      <th>1981</th>\n",
       "      <td>JFK - LAX</td>\n",
       "      <td>71842221.00</td>\n",
       "      <td>63240000</td>\n",
       "      <td>4797525.0</td>\n",
       "      <td>388450016.0</td>\n",
       "      <td>1.446018e+07</td>\n",
       "      <td>4.029102e+08</td>\n",
       "      <td>1.398797e+08</td>\n",
       "      <td>2.630304e+08</td>\n",
       "      <td>83184.830595</td>\n",
       "      <td>0.653302</td>\n",
       "      <td>-3.689443</td>\n",
       "      <td>12.077482</td>\n",
       "    </tr>\n",
       "    <tr>\n",
       "      <th>1960</th>\n",
       "      <td>JAC - JFK</td>\n",
       "      <td>452059.92</td>\n",
       "      <td>390000</td>\n",
       "      <td>27825.0</td>\n",
       "      <td>2839824.0</td>\n",
       "      <td>1.312500e+05</td>\n",
       "      <td>2.971074e+06</td>\n",
       "      <td>8.698849e+05</td>\n",
       "      <td>2.101189e+06</td>\n",
       "      <td>80814.964926</td>\n",
       "      <td>0.721154</td>\n",
       "      <td>-10.461538</td>\n",
       "      <td>6.730769</td>\n",
       "    </tr>\n",
       "    <tr>\n",
       "      <th>1954</th>\n",
       "      <td>ISP - PHL</td>\n",
       "      <td>395015.40</td>\n",
       "      <td>4965000</td>\n",
       "      <td>343800.0</td>\n",
       "      <td>30861440.0</td>\n",
       "      <td>1.489810e+06</td>\n",
       "      <td>3.235125e+07</td>\n",
       "      <td>5.703815e+06</td>\n",
       "      <td>2.664743e+07</td>\n",
       "      <td>80505.844750</td>\n",
       "      <td>0.642991</td>\n",
       "      <td>4.969789</td>\n",
       "      <td>4.957704</td>\n",
       "    </tr>\n",
       "    <tr>\n",
       "      <th>833</th>\n",
       "      <td>CLT - GSP</td>\n",
       "      <td>1065109.50</td>\n",
       "      <td>30940000</td>\n",
       "      <td>1547025.0</td>\n",
       "      <td>149999296.0</td>\n",
       "      <td>7.034300e+06</td>\n",
       "      <td>1.570336e+08</td>\n",
       "      <td>3.355213e+07</td>\n",
       "      <td>1.234815e+08</td>\n",
       "      <td>79819.947377</td>\n",
       "      <td>0.649580</td>\n",
       "      <td>-0.063995</td>\n",
       "      <td>7.051713</td>\n",
       "    </tr>\n",
       "    <tr>\n",
       "      <th>102</th>\n",
       "      <td>ASE - IAH</td>\n",
       "      <td>4207432.68</td>\n",
       "      <td>7530000</td>\n",
       "      <td>1699425.0</td>\n",
       "      <td>50336644.0</td>\n",
       "      <td>2.251550e+06</td>\n",
       "      <td>5.258820e+07</td>\n",
       "      <td>1.343686e+07</td>\n",
       "      <td>3.915134e+07</td>\n",
       "      <td>77990.711828</td>\n",
       "      <td>0.640737</td>\n",
       "      <td>22.093956</td>\n",
       "      <td>24.300797</td>\n",
       "    </tr>\n",
       "  </tbody>\n",
       "</table>\n",
       "</div>"
      ],
      "text/plain": [
       "     NORMALIZED_ROUTE  MAINTENANCE_COSTS  OPERATIONAL_COSTS  DELAY_COST  \\\n",
       "2287        MDT - PHL          306905.76            5970000    443625.0   \n",
       "45          ADK - ANC          503357.76             690000     32925.0   \n",
       "1247        DEN - SUN          746535.96            2190000    149475.0   \n",
       "1477        EGE - JFK         1041838.20             975000    120075.0   \n",
       "1197        DEN - MOT         1874115.36            5070000    904125.0   \n",
       "1981        JFK - LAX        71842221.00           63240000   4797525.0   \n",
       "1960        JAC - JFK          452059.92             390000     27825.0   \n",
       "1954        ISP - PHL          395015.40            4965000    343800.0   \n",
       "833         CLT - GSP         1065109.50           30940000   1547025.0   \n",
       "102         ASE - IAH         4207432.68            7530000   1699425.0   \n",
       "\n",
       "       TOTAL_FARE   BAGGAGE_FEE  TOTAL_REVENUE    TOTAL_COST    PROFIT_SUM  \\\n",
       "2287   46724416.0  1.799070e+06   4.852349e+07  6.720531e+06  4.180296e+07   \n",
       "45      5270137.0  2.126600e+05   5.482797e+06  1.226283e+06  4.256514e+06   \n",
       "1247   15780353.0  6.714400e+05   1.645179e+07  3.086011e+06  1.336578e+07   \n",
       "1477    7718944.0  3.098200e+05   8.028764e+06  2.136913e+06  5.891851e+06   \n",
       "1197   34509444.0  1.552670e+06   3.606211e+07  7.848240e+06  2.821387e+07   \n",
       "1981  388450016.0  1.446018e+07   4.029102e+08  1.398797e+08  2.630304e+08   \n",
       "1960    2839824.0  1.312500e+05   2.971074e+06  8.698849e+05  2.101189e+06   \n",
       "1954   30861440.0  1.489810e+06   3.235125e+07  5.703815e+06  2.664743e+07   \n",
       "833   149999296.0  7.034300e+06   1.570336e+08  3.355213e+07  1.234815e+08   \n",
       "102    50336644.0  2.251550e+06   5.258820e+07  1.343686e+07  3.915134e+07   \n",
       "\n",
       "        PROFIT_MEAN  OCCUPANCY_RATE  ARR_DELAY  DEP_DELAY  \n",
       "2287  105032.555920        0.645754   4.756281   6.045226  \n",
       "45     92532.923008        0.660435 -12.543478  -0.543478  \n",
       "1247   91546.451102        0.656986   0.779497   7.191781  \n",
       "1477   90643.858089        0.680923  24.056311   5.830769  \n",
       "1197   83472.999054        0.656243  17.460533  16.411243  \n",
       "1981   83184.830595        0.653302  -3.689443  12.077482  \n",
       "1960   80814.964926        0.721154 -10.461538   6.730769  \n",
       "1954   80505.844750        0.642991   4.969789   4.957704  \n",
       "833    79819.947377        0.649580  -0.063995   7.051713  \n",
       "102    77990.711828        0.640737  22.093956  24.300797  "
      ]
     },
     "execution_count": 1582,
     "metadata": {},
     "output_type": "execute_result"
    }
   ],
   "source": [
    "#Top 5 recommended trips is based on the colummn \"PROFIT_MEAN\" \n",
    "#The \"PROFIT_MEAN\" column gives us the net profit per flight on each \"NORMALIZED_ROUTE\"\n",
    "profitable_routes.sort_values(by=\"PROFIT_MEAN\", ascending=False).head(10)"
   ]
  },
  {
   "cell_type": "code",
   "execution_count": 1583,
   "metadata": {},
   "outputs": [
    {
     "data": {
      "image/png": "[encoded data removed]",
      "text/plain": [
       "<Figure size 1000x600 with 1 Axes>"
      ]
     },
     "metadata": {},
     "output_type": "display_data"
    }
   ],
   "source": [
    "#Create new \"top_5_recommended_routes\" variable to store the top 5 routes which have the most profit per flight sorted by PROFIT_MEAN column\n",
    "profitable_routes = profitable_routes.sort_values(by=\"PROFIT_MEAN\", ascending=False).head(5)\n",
    "\n",
    "# Plotting the top_5_recommended_routes\n",
    "plt.figure(figsize=(10, 6))\n",
    "plt.barh(profitable_routes['NORMALIZED_ROUTE'], profitable_routes['PROFIT_MEAN'], color='mediumseagreen')\n",
    "plt.xlabel(\"Average Profit per Flight($)\")\n",
    "plt.ylabel(\"Routes\")\n",
    "plt.title(\"Top 5 Recommended Routes\")\n",
    "plt.gca().invert_yaxis()  \n",
    "plt.show()"
   ]
  },
  {
   "cell_type": "markdown",
   "metadata": {
    "id": "ej_dnS1AvFJL"
   },
   "source": [
    "**Question 4:   The number of round trip flights it will take to breakeven on the upfront airplane cost for each of the 5 round trip routes that you recommend. Print key summary components for  these routes.**"
   ]
  },
  {
   "cell_type": "code",
   "execution_count": 1585,
   "metadata": {},
   "outputs": [
    {
     "data": {
      "text/html": [
       "<div>\n",
       "<style scoped>\n",
       "    .dataframe tbody tr th:only-of-type {\n",
       "        vertical-align: middle;\n",
       "    }\n",
       "\n",
       "    .dataframe tbody tr th {\n",
       "        vertical-align: top;\n",
       "    }\n",
       "\n",
       "    .dataframe thead th {\n",
       "        text-align: right;\n",
       "    }\n",
       "</style>\n",
       "<table border=\"1\" class=\"dataframe\">\n",
       "  <thead>\n",
       "    <tr style=\"text-align: right;\">\n",
       "      <th></th>\n",
       "      <th>NORMALIZED_ROUTE</th>\n",
       "      <th>MAINTENANCE_COSTS</th>\n",
       "      <th>OPERATIONAL_COSTS</th>\n",
       "      <th>DELAY_COST</th>\n",
       "      <th>TOTAL_FARE</th>\n",
       "      <th>BAGGAGE_FEE</th>\n",
       "      <th>TOTAL_REVENUE</th>\n",
       "      <th>TOTAL_COST</th>\n",
       "      <th>PROFIT_SUM</th>\n",
       "      <th>PROFIT_MEAN</th>\n",
       "      <th>OCCUPANCY_RATE</th>\n",
       "      <th>ARR_DELAY</th>\n",
       "      <th>DEP_DELAY</th>\n",
       "    </tr>\n",
       "  </thead>\n",
       "  <tbody>\n",
       "    <tr>\n",
       "      <th>2287</th>\n",
       "      <td>MDT - PHL</td>\n",
       "      <td>306905.76</td>\n",
       "      <td>5970000</td>\n",
       "      <td>443625.0</td>\n",
       "      <td>46724416.0</td>\n",
       "      <td>1.799070e+06</td>\n",
       "      <td>4.852349e+07</td>\n",
       "      <td>6720530.76</td>\n",
       "      <td>4.180296e+07</td>\n",
       "      <td>105032.555920</td>\n",
       "      <td>0.645754</td>\n",
       "      <td>4.756281</td>\n",
       "      <td>6.045226</td>\n",
       "    </tr>\n",
       "    <tr>\n",
       "      <th>45</th>\n",
       "      <td>ADK - ANC</td>\n",
       "      <td>503357.76</td>\n",
       "      <td>690000</td>\n",
       "      <td>32925.0</td>\n",
       "      <td>5270137.0</td>\n",
       "      <td>2.126600e+05</td>\n",
       "      <td>5.482797e+06</td>\n",
       "      <td>1226282.76</td>\n",
       "      <td>4.256514e+06</td>\n",
       "      <td>92532.923008</td>\n",
       "      <td>0.660435</td>\n",
       "      <td>-12.543478</td>\n",
       "      <td>-0.543478</td>\n",
       "    </tr>\n",
       "    <tr>\n",
       "      <th>1247</th>\n",
       "      <td>DEN - SUN</td>\n",
       "      <td>746535.96</td>\n",
       "      <td>2190000</td>\n",
       "      <td>149475.0</td>\n",
       "      <td>15780353.0</td>\n",
       "      <td>6.714400e+05</td>\n",
       "      <td>1.645179e+07</td>\n",
       "      <td>3086010.96</td>\n",
       "      <td>1.336578e+07</td>\n",
       "      <td>91546.451102</td>\n",
       "      <td>0.656986</td>\n",
       "      <td>0.779497</td>\n",
       "      <td>7.191781</td>\n",
       "    </tr>\n",
       "    <tr>\n",
       "      <th>1477</th>\n",
       "      <td>EGE - JFK</td>\n",
       "      <td>1041838.20</td>\n",
       "      <td>975000</td>\n",
       "      <td>120075.0</td>\n",
       "      <td>7718944.0</td>\n",
       "      <td>3.098200e+05</td>\n",
       "      <td>8.028764e+06</td>\n",
       "      <td>2136913.20</td>\n",
       "      <td>5.891851e+06</td>\n",
       "      <td>90643.858089</td>\n",
       "      <td>0.680923</td>\n",
       "      <td>24.056311</td>\n",
       "      <td>5.830769</td>\n",
       "    </tr>\n",
       "    <tr>\n",
       "      <th>1197</th>\n",
       "      <td>DEN - MOT</td>\n",
       "      <td>1874115.36</td>\n",
       "      <td>5070000</td>\n",
       "      <td>904125.0</td>\n",
       "      <td>34509444.0</td>\n",
       "      <td>1.552670e+06</td>\n",
       "      <td>3.606211e+07</td>\n",
       "      <td>7848240.36</td>\n",
       "      <td>2.821387e+07</td>\n",
       "      <td>83472.999054</td>\n",
       "      <td>0.656243</td>\n",
       "      <td>17.460533</td>\n",
       "      <td>16.411243</td>\n",
       "    </tr>\n",
       "  </tbody>\n",
       "</table>\n",
       "</div>"
      ],
      "text/plain": [
       "     NORMALIZED_ROUTE  MAINTENANCE_COSTS  OPERATIONAL_COSTS  DELAY_COST  \\\n",
       "2287        MDT - PHL          306905.76            5970000    443625.0   \n",
       "45          ADK - ANC          503357.76             690000     32925.0   \n",
       "1247        DEN - SUN          746535.96            2190000    149475.0   \n",
       "1477        EGE - JFK         1041838.20             975000    120075.0   \n",
       "1197        DEN - MOT         1874115.36            5070000    904125.0   \n",
       "\n",
       "      TOTAL_FARE   BAGGAGE_FEE  TOTAL_REVENUE  TOTAL_COST    PROFIT_SUM  \\\n",
       "2287  46724416.0  1.799070e+06   4.852349e+07  6720530.76  4.180296e+07   \n",
       "45     5270137.0  2.126600e+05   5.482797e+06  1226282.76  4.256514e+06   \n",
       "1247  15780353.0  6.714400e+05   1.645179e+07  3086010.96  1.336578e+07   \n",
       "1477   7718944.0  3.098200e+05   8.028764e+06  2136913.20  5.891851e+06   \n",
       "1197  34509444.0  1.552670e+06   3.606211e+07  7848240.36  2.821387e+07   \n",
       "\n",
       "        PROFIT_MEAN  OCCUPANCY_RATE  ARR_DELAY  DEP_DELAY  \n",
       "2287  105032.555920        0.645754   4.756281   6.045226  \n",
       "45     92532.923008        0.660435 -12.543478  -0.543478  \n",
       "1247   91546.451102        0.656986   0.779497   7.191781  \n",
       "1477   90643.858089        0.680923  24.056311   5.830769  \n",
       "1197   83472.999054        0.656243  17.460533  16.411243  "
      ]
     },
     "execution_count": 1585,
     "metadata": {},
     "output_type": "execute_result"
    }
   ],
   "source": [
    "profitable_routes.head()"
   ]
  },
  {
   "cell_type": "code",
   "execution_count": 1586,
   "metadata": {},
   "outputs": [],
   "source": [
    "#New column \"flights_breakeven\" is created to calculate the number of flights needed to break even based on \"PROFIT_MEAN\"\n",
    "#Cost of new plane = $90,000,000\n",
    "profitable_routes['flights_breakeven'] = 90000000/profitable_routes['PROFIT_MEAN']"
   ]
  },
  {
   "cell_type": "code",
   "execution_count": 1587,
   "metadata": {},
   "outputs": [
    {
     "data": {
      "text/html": [
       "<div>\n",
       "<style scoped>\n",
       "    .dataframe tbody tr th:only-of-type {\n",
       "        vertical-align: middle;\n",
       "    }\n",
       "\n",
       "    .dataframe tbody tr th {\n",
       "        vertical-align: top;\n",
       "    }\n",
       "\n",
       "    .dataframe thead th {\n",
       "        text-align: right;\n",
       "    }\n",
       "</style>\n",
       "<table border=\"1\" class=\"dataframe\">\n",
       "  <thead>\n",
       "    <tr style=\"text-align: right;\">\n",
       "      <th></th>\n",
       "      <th>NORMALIZED_ROUTE</th>\n",
       "      <th>MAINTENANCE_COSTS</th>\n",
       "      <th>OPERATIONAL_COSTS</th>\n",
       "      <th>DELAY_COST</th>\n",
       "      <th>TOTAL_FARE</th>\n",
       "      <th>BAGGAGE_FEE</th>\n",
       "      <th>TOTAL_REVENUE</th>\n",
       "      <th>TOTAL_COST</th>\n",
       "      <th>PROFIT_SUM</th>\n",
       "      <th>PROFIT_MEAN</th>\n",
       "      <th>OCCUPANCY_RATE</th>\n",
       "      <th>ARR_DELAY</th>\n",
       "      <th>DEP_DELAY</th>\n",
       "      <th>flights_breakeven</th>\n",
       "    </tr>\n",
       "  </thead>\n",
       "  <tbody>\n",
       "    <tr>\n",
       "      <th>2287</th>\n",
       "      <td>MDT - PHL</td>\n",
       "      <td>306905.76</td>\n",
       "      <td>5970000</td>\n",
       "      <td>443625.0</td>\n",
       "      <td>46724416.0</td>\n",
       "      <td>1.799070e+06</td>\n",
       "      <td>4.852349e+07</td>\n",
       "      <td>6720530.76</td>\n",
       "      <td>4.180296e+07</td>\n",
       "      <td>105032.555920</td>\n",
       "      <td>0.645754</td>\n",
       "      <td>4.756281</td>\n",
       "      <td>6.045226</td>\n",
       "      <td>856.877177</td>\n",
       "    </tr>\n",
       "    <tr>\n",
       "      <th>45</th>\n",
       "      <td>ADK - ANC</td>\n",
       "      <td>503357.76</td>\n",
       "      <td>690000</td>\n",
       "      <td>32925.0</td>\n",
       "      <td>5270137.0</td>\n",
       "      <td>2.126600e+05</td>\n",
       "      <td>5.482797e+06</td>\n",
       "      <td>1226282.76</td>\n",
       "      <td>4.256514e+06</td>\n",
       "      <td>92532.923008</td>\n",
       "      <td>0.660435</td>\n",
       "      <td>-12.543478</td>\n",
       "      <td>-0.543478</td>\n",
       "      <td>972.626791</td>\n",
       "    </tr>\n",
       "    <tr>\n",
       "      <th>1247</th>\n",
       "      <td>DEN - SUN</td>\n",
       "      <td>746535.96</td>\n",
       "      <td>2190000</td>\n",
       "      <td>149475.0</td>\n",
       "      <td>15780353.0</td>\n",
       "      <td>6.714400e+05</td>\n",
       "      <td>1.645179e+07</td>\n",
       "      <td>3086010.96</td>\n",
       "      <td>1.336578e+07</td>\n",
       "      <td>91546.451102</td>\n",
       "      <td>0.656986</td>\n",
       "      <td>0.779497</td>\n",
       "      <td>7.191781</td>\n",
       "      <td>983.107471</td>\n",
       "    </tr>\n",
       "    <tr>\n",
       "      <th>1477</th>\n",
       "      <td>EGE - JFK</td>\n",
       "      <td>1041838.20</td>\n",
       "      <td>975000</td>\n",
       "      <td>120075.0</td>\n",
       "      <td>7718944.0</td>\n",
       "      <td>3.098200e+05</td>\n",
       "      <td>8.028764e+06</td>\n",
       "      <td>2136913.20</td>\n",
       "      <td>5.891851e+06</td>\n",
       "      <td>90643.858089</td>\n",
       "      <td>0.680923</td>\n",
       "      <td>24.056311</td>\n",
       "      <td>5.830769</td>\n",
       "      <td>992.896837</td>\n",
       "    </tr>\n",
       "    <tr>\n",
       "      <th>1197</th>\n",
       "      <td>DEN - MOT</td>\n",
       "      <td>1874115.36</td>\n",
       "      <td>5070000</td>\n",
       "      <td>904125.0</td>\n",
       "      <td>34509444.0</td>\n",
       "      <td>1.552670e+06</td>\n",
       "      <td>3.606211e+07</td>\n",
       "      <td>7848240.36</td>\n",
       "      <td>2.821387e+07</td>\n",
       "      <td>83472.999054</td>\n",
       "      <td>0.656243</td>\n",
       "      <td>17.460533</td>\n",
       "      <td>16.411243</td>\n",
       "      <td>1078.192961</td>\n",
       "    </tr>\n",
       "  </tbody>\n",
       "</table>\n",
       "</div>"
      ],
      "text/plain": [
       "     NORMALIZED_ROUTE  MAINTENANCE_COSTS  OPERATIONAL_COSTS  DELAY_COST  \\\n",
       "2287        MDT - PHL          306905.76            5970000    443625.0   \n",
       "45          ADK - ANC          503357.76             690000     32925.0   \n",
       "1247        DEN - SUN          746535.96            2190000    149475.0   \n",
       "1477        EGE - JFK         1041838.20             975000    120075.0   \n",
       "1197        DEN - MOT         1874115.36            5070000    904125.0   \n",
       "\n",
       "      TOTAL_FARE   BAGGAGE_FEE  TOTAL_REVENUE  TOTAL_COST    PROFIT_SUM  \\\n",
       "2287  46724416.0  1.799070e+06   4.852349e+07  6720530.76  4.180296e+07   \n",
       "45     5270137.0  2.126600e+05   5.482797e+06  1226282.76  4.256514e+06   \n",
       "1247  15780353.0  6.714400e+05   1.645179e+07  3086010.96  1.336578e+07   \n",
       "1477   7718944.0  3.098200e+05   8.028764e+06  2136913.20  5.891851e+06   \n",
       "1197  34509444.0  1.552670e+06   3.606211e+07  7848240.36  2.821387e+07   \n",
       "\n",
       "        PROFIT_MEAN  OCCUPANCY_RATE  ARR_DELAY  DEP_DELAY  flights_breakeven  \n",
       "2287  105032.555920        0.645754   4.756281   6.045226         856.877177  \n",
       "45     92532.923008        0.660435 -12.543478  -0.543478         972.626791  \n",
       "1247   91546.451102        0.656986   0.779497   7.191781         983.107471  \n",
       "1477   90643.858089        0.680923  24.056311   5.830769         992.896837  \n",
       "1197   83472.999054        0.656243  17.460533  16.411243        1078.192961  "
      ]
     },
     "execution_count": 1587,
     "metadata": {},
     "output_type": "execute_result"
    }
   ],
   "source": [
    "profitable_routes.sort_values(by=\"PROFIT_MEAN\", ascending=False).head(10)"
   ]
  },
  {
   "cell_type": "code",
   "execution_count": 1588,
   "metadata": {},
   "outputs": [
    {
     "data": {
      "image/png": "[encoded data removed]",
      "text/plain": [
       "<Figure size 1000x600 with 1 Axes>"
      ]
     },
     "metadata": {},
     "output_type": "display_data"
    }
   ],
   "source": [
    "#Create new \"top_5_breakeven\" variable to store the top 5 routes which would need the least flights to break even\n",
    "#profitable_routes = profitable_routes.sort_values(by=\"PROFIT_MEAN\", ascending=False).head(5)\n",
    "\n",
    "\n",
    "# Plotting the top 10 round trips\n",
    "plt.figure(figsize=(10, 6))\n",
    "plt.bar(profitable_routes['NORMALIZED_ROUTE'], profitable_routes['flights_breakeven'], color='lightcoral')\n",
    "plt.xlabel(\"Routes\")\n",
    "plt.ylabel(\"Flights needed to breakeven\")\n",
    "plt.title(\"Top 5 Recommended Routes\")\n",
    "#plt.gca().invert_yaxis()  # Invert y-axis for better visualization\n",
    "plt.show()"
   ]
  },
  {
   "cell_type": "markdown",
   "metadata": {
    "id": "ej_dnS1AvFJL"
   },
   "source": [
    "**Question 5:   Key Performance Indicators (KPI’s) that you recommend tracking in the future to measure the success of the round trip routes that you recommend.**"
   ]
  },
  {
   "cell_type": "markdown",
   "metadata": {
    "id": "ej_dnS1AvFJL"
   },
   "source": [
    "Based on the analysis and data points mentioned in the input data sets, I would recommend the following KPIs to track in the future:\n",
    "\n",
    "    - Passenger demand & occupancy rate - seasonal trends might lead to fluctuations (e.g. aurora viewing during winters in Alaska, ski season in Denver).\n",
    "    - On time performance - the company prides itself for being on time, so this is one of the most critical parameters.\n",
    "    - Customer feedback\n",
    "    - Revenue per passenger\n",
    "    - Competitor activity - track new routes from competitors to stay ahead of the competition\n",
    "    - Cancellation Rate per Route"
   ]
  }
 ],
 "metadata": {
  "colab": {
   "provenance": []
  },
  "kernelspec": {
   "display_name": "Python [conda env:base] *",
   "language": "python",
   "name": "conda-base-py"
  },
  "language_info": {
   "codemirror_mode": {
    "name": "ipython",
    "version": 3
   },
   "file_extension": ".py",
   "mimetype": "text/x-python",
   "name": "python",
   "nbconvert_exporter": "python",
   "pygments_lexer": "ipython3",
   "version": "3.12.7"
  }
 },
 "nbformat": 4,
 "nbformat_minor": 4
}
